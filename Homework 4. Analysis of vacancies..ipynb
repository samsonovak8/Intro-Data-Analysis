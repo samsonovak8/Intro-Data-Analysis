{
  "cells": [
    {
      "cell_type": "markdown",
      "metadata": {
        "id": "efPHX-9_g_X7"
      },
      "source": [
        "# <a href=\"https://miptstats.github.io/courses/ad_fivt.html\">Введение в анализ данных</a>\n",
        "## Домашнее задание 4. Анализ вакансий.\n"
      ]
    },
    {
      "cell_type": "markdown",
      "metadata": {
        "id": "fgIaCkUcg_X9"
      },
      "source": [
        "**Правила, <font color=\"red\">прочитайте внимательно</font>:**\n",
        "\n",
        "* Выполненную работу нужно отправить телеграм-боту `@miptstats_ds23_bot`. Для начала работы с ботом каждый раз отправляйте `/start`. Дождитесь подтверждения от бота, что он принял файл. Если подтверждения нет, то что-то не так. **Работы, присланные иным способом, не принимаются.**\n",
        "* Дедлайн см. в боте. После дедлайна работы не принимаются кроме случаев наличия уважительной причины.\n",
        "* Прислать нужно **ноутбук в формате `ipynb` и полученные данные** (подробности далее). Если вы строите интерактивные графики, их стоит прислать в формате html.\n",
        "* Следите за размером файлов. **Бот не может принимать файлы весом более 20 Мб.** Если файл получается больше, заранее разделите его на несколько.\n",
        "* Будьте внимательны при работе со сбором данных. Ответственность за корректность ваших действий лежит на вас. Не нагружайте сервера, *делайте паузы между запросами*. Как следствие, начинайте выполнять задание заранее. **Если вас где-то забаннили и т.п., то это не является уважительной причиной продления дедлайна.**\n",
        "* Выполнять задание необходимо полностью самостоятельно. **При обнаружении списывания все участники списывания будут сдавать устный зачет.**\n",
        "* Решения, размещенные на каких-либо интернет-ресурсах, не принимаются. Кроме того, публикация решения в открытом доступе может быть приравнена к предоставлении возможности списать.\n",
        "* Для выполнения задания используйте этот ноутбук в качестве основы, ничего не удаляя из него. Можно добавлять необходимое количество ячеек.\n",
        "* Комментарии к решению пишите в markdown-ячейках.\n",
        "* Выполнение задания (ход решения, выводы и пр.) должно быть осуществлено на русском языке.\n",
        "* Если код будет не понятен проверяющему, оценка может быть снижена.\n",
        "* Никакой код из данного задания при проверке запускаться не будет. *Если код студента не выполнен, недописан и т.д., то он не оценивается.*\n",
        "\n",
        "**Перед выполнением задания посмотрите презентацию по выполнению и оформлению домашних заданий с занятия 2.**\n",
        "\n",
        "---\n",
        "\n",
        "**Баллы за задание:**\n",
        "\n",
        "<b><a href=\"#Легкая-часть\" style=\"text-decoration: none;\"><font color=\"blue\">Легкая часть</font></a></b> (достаточно на \"хор\"):\n",
        "* Задача 1 &mdash; 60 баллов\n",
        "\n",
        "<b><a href=\"#Сложная-часть\" style=\"text-decoration: none;\"><font color=\"orange\">Сложная часть</font></a></b> (необходимо на \"отл\"):\n",
        "* Задача 2 &mdash; 60 баллов"
      ]
    },
    {
      "cell_type": "code",
      "execution_count": 107,
      "metadata": {
        "id": "wRpHcOo8g_X-"
      },
      "outputs": [],
      "source": [
        "# Bot check\n",
        "\n",
        "# HW_ID: fpmi_ad4\n",
        "# Бот проверит этот ID и предупредит, если случайно сдать что-то не то.\n",
        "\n",
        "# Status: final\n",
        "# Перед отправкой в финальном решении удали \"not\" в строчке выше.\n",
        "# Так бот проверит, что ты отправляешь финальную версию, а не промежуточную.\n",
        "# Никакие значения в этой ячейке не влияют на факт сдачи работы."
      ]
    },
    {
      "cell_type": "code",
      "execution_count": 1,
      "metadata": {
        "id": "ht9Xm0EucoAr"
      },
      "outputs": [],
      "source": [
        "import requests\n",
        "from time import sleep\n",
        "import json\n",
        "\n",
        "import numpy as np\n",
        "import pandas as pd\n",
        "import matplotlib.pyplot as plt\n",
        "import seaborn as sns\n",
        "\n",
        "sns.set(style='whitegrid', font_scale=1.3, palette='Set2')"
      ]
    },
    {
      "cell_type": "markdown",
      "metadata": {
        "id": "figbnQjng_X_"
      },
      "source": [
        "\n",
        "Второй курс &mdash; самое время задуматься о будущей профессии и проанализировать существующие предложения. Дело тут даже не в том, чтобы найти интересную стажировку. В первую очередь сейчас стоит подумать о том, в какую сторону развиваться дальше. Например, если вы хотите работать в какой-либо конкретной профессии, то наверняка стоит развивать какие-то определенные навыки, и даже выбрать подходящую кафедру. Анализ существующих вакансий поможет определить, какие навыки вам нужны. \n",
        "\n",
        "Задание предполагает вариативность исследуемых данных. Вы можете выбрать один из следующих вариантов.\n",
        "1. Стандартный вариант &mdash; проанализировать вакансии на сайте <a target=\"_blank\" href=\"https://hh.ru/\">hh.ru</a> с использованием <a target=\"_blank\" href=\"https://dev.hh.ru/\">официального API</a>. Далее приведен пример работы с этим API. *Если вы не достаточно уверены в своих силах, рекомендуется выбрать этот вариант.*\n",
        "2. Разобраться с API других сервисов по поиску вакансий, например, <a target=\"_blank\" href=\"https://career.habr.com/\">Хабр.Карьера</a> или <a target=\"_blank\" href=\"https://www.superjob.ru/\">SuperJob</a>.\n",
        "3. Извлечение данных с помощью <a target=\"_blank\" href=\"https://miptstats.github.io/courses/ad_fivt/data_parsing.html#2.-Парсинг-HTML-напрямую\">парсинга HTML напрямую</a> некоторых сайтов. Например, вы можете попробовать напрямую распарсить пул вакансий из тех источников, которые не предоставляют API. **Внимание! Обращайте внимание на пользовательские соглашения и на <a target=\"_blank\" href=\"https://miptstats.github.io/courses/ad_fivt/data_parsing.html#Сбор-данных-из-открытых-источников\">эти рекомендации</a>.**\n",
        "4. Комбинирование нескольких подходов. В этом случае нужно понимать, как находить одинаковые вакансии из разных источников для избежания их двойного учета.\n",
        "5. Можно также *дополнительно* брать архивные данные из недавнего прошлого, например, из <a target=\"_blank\" href=\"https://boosters.pro/championship/HeadHunter/overview/description\">этого соревнования</a>.\n",
        "\n",
        "Перед выполнением задания ознакомьтесь с <a target=\"_blank\" href=\"https://miptstats.github.io/courses/ad_fivt/data_parsing.html\">материалом</a> о сборе данных из открытых источников.\n",
        "\n",
        "Для получения максимального балла за задание достаточно выполнить все задание по стандартному варианту. Альтернативные варианты, даже более сложные, не дают больше баллов, чем максимальное количество баллов по стандартному варианту.\n",
        "\n",
        "Работа в некоторой степени творческая, поэтому конкретные детали решения в основном остаются на усмотрение автора решения. Например, если в вакансии зарплата укзана \"*от ...*\" или  \"*до ...*\", то вы сами решаете, как это обрабатывать, но не забывайте про четкую аргументацию. Не забывайте также заглядывать в презентацию по выполнению и оформлению домашних заданий с занятия 2."
      ]
    },
    {
      "cell_type": "markdown",
      "metadata": {
        "id": "OqplxSzBg_YA"
      },
      "source": [
        " ---\n",
        "### Справка по работе с API сервиса hh.ru.   \n",
        "\n",
        "<b><font color=\"red\">Внимание!</font> При работе с API не забывайте делать паузы между запросами, чтобы не задудосить сервер. Если вас заблокируют, это не будет являться уважительной причиной переноса дедлайна.</b>\n",
        "\n",
        "Мы будем работать только с вакансиями. Для этого не требуется регистрироваться и получать токен. Ниже приведен краткий пример работы с API. Подробное описание работы с вакансиями, включая параметры запросов и формат ответа можно почитать в <a target=\"_blank\" href=\"https://github.com/hhru/api/blob/master/docs/vacancies.md#search\">документации</a>.\n",
        "\n",
        "Например, мы хотим найти вакансии по запросу `Data Scientist` в Москве. Тогда первую страницу поиска из 10 вакансий на страницу мы можем получить с запроса к API:"
      ]
    },
    {
      "cell_type": "code",
      "execution_count": 5,
      "metadata": {
        "id": "yd3PEb8ug_YA"
      },
      "outputs": [],
      "source": [
        "URL = 'https://api.hh.ru/vacancies'\n",
        "\n",
        "params = {\n",
        "    'text': \"Data Scientist\",\n",
        "    'area': 1,\n",
        "    'page': 0,\n",
        "    'per_page': 10\n",
        "}\n",
        "\n",
        "req = requests.get(URL, params)\n",
        "data = json.loads(req.content.decode())"
      ]
    },
    {
      "cell_type": "markdown",
      "metadata": {
        "id": "p2OXTl5Eg_YA"
      },
      "source": [
        "Если все прошло успешно, полученный словарь будет иметь следующие ключи"
      ]
    },
    {
      "cell_type": "code",
      "execution_count": 6,
      "metadata": {
        "colab": {
          "base_uri": "https://localhost:8080/"
        },
        "id": "06dKoa6Lg_YA",
        "outputId": "4a09bce0-4b6f-44f4-a2d0-76abe4350c97"
      },
      "outputs": [
        {
          "output_type": "execute_result",
          "data": {
            "text/plain": [
              "dict_keys(['items', 'found', 'pages', 'per_page', 'page', 'clusters', 'arguments', 'alternate_url'])"
            ]
          },
          "metadata": {},
          "execution_count": 6
        }
      ],
      "source": [
        "data.keys()"
      ]
    },
    {
      "cell_type": "markdown",
      "metadata": {
        "id": "O8s6GHlrg_YB"
      },
      "source": [
        "Можем посмотреть на краткое описание первой вакансии"
      ]
    },
    {
      "cell_type": "code",
      "execution_count": 7,
      "metadata": {
        "scrolled": false,
        "colab": {
          "base_uri": "https://localhost:8080/"
        },
        "id": "Pg2Hlp1dg_YB",
        "outputId": "6b1b0dd0-4a78-4be0-a58a-497d45b2d3d7"
      },
      "outputs": [
        {
          "output_type": "execute_result",
          "data": {
            "text/plain": [
              "{'id': '74376536',\n",
              " 'premium': False,\n",
              " 'name': 'Data scientist',\n",
              " 'department': None,\n",
              " 'has_test': False,\n",
              " 'response_letter_required': False,\n",
              " 'area': {'id': '1', 'name': 'Москва', 'url': 'https://api.hh.ru/areas/1'},\n",
              " 'salary': {'from': 200000, 'to': 240000, 'currency': 'RUR', 'gross': False},\n",
              " 'type': {'id': 'open', 'name': 'Открытая'},\n",
              " 'address': {'city': 'Москва',\n",
              "  'street': 'Походный проезд',\n",
              "  'building': '14',\n",
              "  'lat': 55.838091,\n",
              "  'lng': 37.417167,\n",
              "  'description': None,\n",
              "  'raw': 'Москва, Походный проезд, 14',\n",
              "  'metro': None,\n",
              "  'metro_stations': [],\n",
              "  'id': '953346'},\n",
              " 'response_url': None,\n",
              " 'sort_point_distance': None,\n",
              " 'published_at': '2023-03-01T13:01:29+0300',\n",
              " 'created_at': '2023-03-01T13:01:29+0300',\n",
              " 'archived': False,\n",
              " 'apply_alternate_url': 'https://hh.ru/applicant/vacancy_response?vacancyId=74376536',\n",
              " 'insider_interview': None,\n",
              " 'url': 'https://api.hh.ru/vacancies/74376536?host=hh.ru',\n",
              " 'adv_response_url': None,\n",
              " 'alternate_url': 'https://hh.ru/vacancy/74376536',\n",
              " 'relations': [],\n",
              " 'employer': {'id': '606',\n",
              "  'name': 'Астор',\n",
              "  'url': 'https://api.hh.ru/employers/606',\n",
              "  'alternate_url': 'https://hh.ru/employer/606',\n",
              "  'logo_urls': {'original': 'https://hhcdn.ru/employer-logo-original/895922.png',\n",
              "   '90': 'https://hhcdn.ru/employer-logo/4024375.png',\n",
              "   '240': 'https://hhcdn.ru/employer-logo/4024376.png'},\n",
              "  'vacancies_url': 'https://api.hh.ru/vacancies?employer_id=606',\n",
              "  'trusted': True},\n",
              " 'snippet': {'requirement': 'Опыт работы на позиции <highlighttext>data</highlighttext> <highlighttext>scientist</highlighttext> от 2ух лет. Знание основных алгоритмов и метрик машинного обучения. Ключевые навыки: Python...',\n",
              "  'responsibility': 'Работа в команде по созданию модуля <highlighttext>Data</highlighttext> Science & AI, отвечающего за обработку данных, консолидированных в хранилище, и интеллектуальное обеспечение различных...'},\n",
              " 'contacts': None,\n",
              " 'schedule': {'id': 'remote', 'name': 'Удаленная работа'},\n",
              " 'working_days': [],\n",
              " 'working_time_intervals': [],\n",
              " 'working_time_modes': [],\n",
              " 'accept_temporary': False,\n",
              " 'professional_roles': [{'id': '10', 'name': 'Аналитик'}],\n",
              " 'accept_incomplete_resumes': False}"
            ]
          },
          "metadata": {},
          "execution_count": 7
        }
      ],
      "source": [
        "data['items'][0]"
      ]
    },
    {
      "cell_type": "markdown",
      "metadata": {
        "id": "w5JZy26jg_YB"
      },
      "source": [
        "Сколько всего найдено вакансий"
      ]
    },
    {
      "cell_type": "code",
      "execution_count": 8,
      "metadata": {
        "colab": {
          "base_uri": "https://localhost:8080/"
        },
        "id": "_326yZSng_YB",
        "outputId": "658508f1-6a1c-41cd-ce26-0e427d93b7a2"
      },
      "outputs": [
        {
          "output_type": "execute_result",
          "data": {
            "text/plain": [
              "262"
            ]
          },
          "metadata": {},
          "execution_count": 8
        }
      ],
      "source": [
        "data['found']"
      ]
    },
    {
      "cell_type": "markdown",
      "metadata": {
        "id": "wYHDPDukg_YB"
      },
      "source": [
        "Количество страниц в результатах поиска"
      ]
    },
    {
      "cell_type": "code",
      "execution_count": 9,
      "metadata": {
        "colab": {
          "base_uri": "https://localhost:8080/"
        },
        "id": "0e1KgCYlg_YB",
        "outputId": "ae95ca65-8799-4ab6-ef0a-e5e3f11473a6"
      },
      "outputs": [
        {
          "output_type": "execute_result",
          "data": {
            "text/plain": [
              "27"
            ]
          },
          "metadata": {},
          "execution_count": 9
        }
      ],
      "source": [
        "data['pages']"
      ]
    },
    {
      "cell_type": "markdown",
      "metadata": {
        "id": "xmrInGojg_YB"
      },
      "source": [
        "Из результатов можем сделать удобную таблицу, причем в дальнейшем можно оставить только те колонки, которые необходимы для анализа."
      ]
    },
    {
      "cell_type": "code",
      "execution_count": 10,
      "metadata": {
        "colab": {
          "base_uri": "https://localhost:8080/",
          "height": 421
        },
        "id": "bjfXsxbxg_YB",
        "outputId": "81d8de1d-524f-4a58-ce33-f878cc0becd1"
      },
      "outputs": [
        {
          "output_type": "execute_result",
          "data": {
            "text/plain": [
              "         id  premium                                               name  \\\n",
              "0  74376536    False                                     Data scientist   \n",
              "1  76925483    False                                     Data Scientist   \n",
              "2  74257661    False                                     Data scientist   \n",
              "3  77223284    False  Аналитик данных (Data Scientist) / ML-разработчик   \n",
              "4  77208642    False                      Data Scientist middle+/Senior   \n",
              "\n",
              "   department  has_test  response_letter_required response_url  \\\n",
              "0         NaN     False                     False         None   \n",
              "1         NaN     False                     False         None   \n",
              "2         NaN     False                     False         None   \n",
              "3         NaN     False                     False         None   \n",
              "4         NaN     False                     False         None   \n",
              "\n",
              "  sort_point_distance              published_at                created_at  \\\n",
              "0                None  2023-03-01T13:01:29+0300  2023-03-01T13:01:29+0300   \n",
              "1                None  2023-02-28T14:31:00+0300  2023-02-28T14:31:00+0300   \n",
              "2                None  2023-03-01T15:02:29+0300  2023-03-01T15:02:29+0300   \n",
              "3                None  2023-03-01T15:00:20+0300  2023-03-01T15:00:20+0300   \n",
              "4                None  2023-03-01T12:06:39+0300  2023-03-01T12:06:39+0300   \n",
              "\n",
              "   ...  address.metro.station_name address.metro.line_name  \\\n",
              "0  ...                         NaN                     NaN   \n",
              "1  ...                         NaN                     NaN   \n",
              "2  ...                     Минская             Солнцевская   \n",
              "3  ...                         NaN                     NaN   \n",
              "4  ...                         NaN                     NaN   \n",
              "\n",
              "  address.metro.station_id address.metro.line_id address.metro.lat  \\\n",
              "0                      NaN                   NaN               NaN   \n",
              "1                      NaN                   NaN               NaN   \n",
              "2                  133.555                   133           55.7232   \n",
              "3                      NaN                   NaN               NaN   \n",
              "4                      NaN                   NaN               NaN   \n",
              "\n",
              "  address.metro.lng salary employer.logo_urls department.id department.name  \n",
              "0               NaN    NaN                NaN           NaN             NaN  \n",
              "1               NaN    NaN                NaN           NaN             NaN  \n",
              "2           37.5038    NaN                NaN           NaN             NaN  \n",
              "3               NaN    NaN                NaN           NaN             NaN  \n",
              "4               NaN    NaN                NaN           NaN             NaN  \n",
              "\n",
              "[5 rows x 67 columns]"
            ],
            "text/html": [
              "\n",
              "  <div id=\"df-8fdea609-9e67-44c1-83d6-35b3afa553bc\">\n",
              "    <div class=\"colab-df-container\">\n",
              "      <div>\n",
              "<style scoped>\n",
              "    .dataframe tbody tr th:only-of-type {\n",
              "        vertical-align: middle;\n",
              "    }\n",
              "\n",
              "    .dataframe tbody tr th {\n",
              "        vertical-align: top;\n",
              "    }\n",
              "\n",
              "    .dataframe thead th {\n",
              "        text-align: right;\n",
              "    }\n",
              "</style>\n",
              "<table border=\"1\" class=\"dataframe\">\n",
              "  <thead>\n",
              "    <tr style=\"text-align: right;\">\n",
              "      <th></th>\n",
              "      <th>id</th>\n",
              "      <th>premium</th>\n",
              "      <th>name</th>\n",
              "      <th>department</th>\n",
              "      <th>has_test</th>\n",
              "      <th>response_letter_required</th>\n",
              "      <th>response_url</th>\n",
              "      <th>sort_point_distance</th>\n",
              "      <th>published_at</th>\n",
              "      <th>created_at</th>\n",
              "      <th>...</th>\n",
              "      <th>address.metro.station_name</th>\n",
              "      <th>address.metro.line_name</th>\n",
              "      <th>address.metro.station_id</th>\n",
              "      <th>address.metro.line_id</th>\n",
              "      <th>address.metro.lat</th>\n",
              "      <th>address.metro.lng</th>\n",
              "      <th>salary</th>\n",
              "      <th>employer.logo_urls</th>\n",
              "      <th>department.id</th>\n",
              "      <th>department.name</th>\n",
              "    </tr>\n",
              "  </thead>\n",
              "  <tbody>\n",
              "    <tr>\n",
              "      <th>0</th>\n",
              "      <td>74376536</td>\n",
              "      <td>False</td>\n",
              "      <td>Data scientist</td>\n",
              "      <td>NaN</td>\n",
              "      <td>False</td>\n",
              "      <td>False</td>\n",
              "      <td>None</td>\n",
              "      <td>None</td>\n",
              "      <td>2023-03-01T13:01:29+0300</td>\n",
              "      <td>2023-03-01T13:01:29+0300</td>\n",
              "      <td>...</td>\n",
              "      <td>NaN</td>\n",
              "      <td>NaN</td>\n",
              "      <td>NaN</td>\n",
              "      <td>NaN</td>\n",
              "      <td>NaN</td>\n",
              "      <td>NaN</td>\n",
              "      <td>NaN</td>\n",
              "      <td>NaN</td>\n",
              "      <td>NaN</td>\n",
              "      <td>NaN</td>\n",
              "    </tr>\n",
              "    <tr>\n",
              "      <th>1</th>\n",
              "      <td>76925483</td>\n",
              "      <td>False</td>\n",
              "      <td>Data Scientist</td>\n",
              "      <td>NaN</td>\n",
              "      <td>False</td>\n",
              "      <td>False</td>\n",
              "      <td>None</td>\n",
              "      <td>None</td>\n",
              "      <td>2023-02-28T14:31:00+0300</td>\n",
              "      <td>2023-02-28T14:31:00+0300</td>\n",
              "      <td>...</td>\n",
              "      <td>NaN</td>\n",
              "      <td>NaN</td>\n",
              "      <td>NaN</td>\n",
              "      <td>NaN</td>\n",
              "      <td>NaN</td>\n",
              "      <td>NaN</td>\n",
              "      <td>NaN</td>\n",
              "      <td>NaN</td>\n",
              "      <td>NaN</td>\n",
              "      <td>NaN</td>\n",
              "    </tr>\n",
              "    <tr>\n",
              "      <th>2</th>\n",
              "      <td>74257661</td>\n",
              "      <td>False</td>\n",
              "      <td>Data scientist</td>\n",
              "      <td>NaN</td>\n",
              "      <td>False</td>\n",
              "      <td>False</td>\n",
              "      <td>None</td>\n",
              "      <td>None</td>\n",
              "      <td>2023-03-01T15:02:29+0300</td>\n",
              "      <td>2023-03-01T15:02:29+0300</td>\n",
              "      <td>...</td>\n",
              "      <td>Минская</td>\n",
              "      <td>Солнцевская</td>\n",
              "      <td>133.555</td>\n",
              "      <td>133</td>\n",
              "      <td>55.7232</td>\n",
              "      <td>37.5038</td>\n",
              "      <td>NaN</td>\n",
              "      <td>NaN</td>\n",
              "      <td>NaN</td>\n",
              "      <td>NaN</td>\n",
              "    </tr>\n",
              "    <tr>\n",
              "      <th>3</th>\n",
              "      <td>77223284</td>\n",
              "      <td>False</td>\n",
              "      <td>Аналитик данных (Data Scientist) / ML-разработчик</td>\n",
              "      <td>NaN</td>\n",
              "      <td>False</td>\n",
              "      <td>False</td>\n",
              "      <td>None</td>\n",
              "      <td>None</td>\n",
              "      <td>2023-03-01T15:00:20+0300</td>\n",
              "      <td>2023-03-01T15:00:20+0300</td>\n",
              "      <td>...</td>\n",
              "      <td>NaN</td>\n",
              "      <td>NaN</td>\n",
              "      <td>NaN</td>\n",
              "      <td>NaN</td>\n",
              "      <td>NaN</td>\n",
              "      <td>NaN</td>\n",
              "      <td>NaN</td>\n",
              "      <td>NaN</td>\n",
              "      <td>NaN</td>\n",
              "      <td>NaN</td>\n",
              "    </tr>\n",
              "    <tr>\n",
              "      <th>4</th>\n",
              "      <td>77208642</td>\n",
              "      <td>False</td>\n",
              "      <td>Data Scientist middle+/Senior</td>\n",
              "      <td>NaN</td>\n",
              "      <td>False</td>\n",
              "      <td>False</td>\n",
              "      <td>None</td>\n",
              "      <td>None</td>\n",
              "      <td>2023-03-01T12:06:39+0300</td>\n",
              "      <td>2023-03-01T12:06:39+0300</td>\n",
              "      <td>...</td>\n",
              "      <td>NaN</td>\n",
              "      <td>NaN</td>\n",
              "      <td>NaN</td>\n",
              "      <td>NaN</td>\n",
              "      <td>NaN</td>\n",
              "      <td>NaN</td>\n",
              "      <td>NaN</td>\n",
              "      <td>NaN</td>\n",
              "      <td>NaN</td>\n",
              "      <td>NaN</td>\n",
              "    </tr>\n",
              "  </tbody>\n",
              "</table>\n",
              "<p>5 rows × 67 columns</p>\n",
              "</div>\n",
              "      <button class=\"colab-df-convert\" onclick=\"convertToInteractive('df-8fdea609-9e67-44c1-83d6-35b3afa553bc')\"\n",
              "              title=\"Convert this dataframe to an interactive table.\"\n",
              "              style=\"display:none;\">\n",
              "        \n",
              "  <svg xmlns=\"http://www.w3.org/2000/svg\" height=\"24px\"viewBox=\"0 0 24 24\"\n",
              "       width=\"24px\">\n",
              "    <path d=\"M0 0h24v24H0V0z\" fill=\"none\"/>\n",
              "    <path d=\"M18.56 5.44l.94 2.06.94-2.06 2.06-.94-2.06-.94-.94-2.06-.94 2.06-2.06.94zm-11 1L8.5 8.5l.94-2.06 2.06-.94-2.06-.94L8.5 2.5l-.94 2.06-2.06.94zm10 10l.94 2.06.94-2.06 2.06-.94-2.06-.94-.94-2.06-.94 2.06-2.06.94z\"/><path d=\"M17.41 7.96l-1.37-1.37c-.4-.4-.92-.59-1.43-.59-.52 0-1.04.2-1.43.59L10.3 9.45l-7.72 7.72c-.78.78-.78 2.05 0 2.83L4 21.41c.39.39.9.59 1.41.59.51 0 1.02-.2 1.41-.59l7.78-7.78 2.81-2.81c.8-.78.8-2.07 0-2.86zM5.41 20L4 18.59l7.72-7.72 1.47 1.35L5.41 20z\"/>\n",
              "  </svg>\n",
              "      </button>\n",
              "      \n",
              "  <style>\n",
              "    .colab-df-container {\n",
              "      display:flex;\n",
              "      flex-wrap:wrap;\n",
              "      gap: 12px;\n",
              "    }\n",
              "\n",
              "    .colab-df-convert {\n",
              "      background-color: #E8F0FE;\n",
              "      border: none;\n",
              "      border-radius: 50%;\n",
              "      cursor: pointer;\n",
              "      display: none;\n",
              "      fill: #1967D2;\n",
              "      height: 32px;\n",
              "      padding: 0 0 0 0;\n",
              "      width: 32px;\n",
              "    }\n",
              "\n",
              "    .colab-df-convert:hover {\n",
              "      background-color: #E2EBFA;\n",
              "      box-shadow: 0px 1px 2px rgba(60, 64, 67, 0.3), 0px 1px 3px 1px rgba(60, 64, 67, 0.15);\n",
              "      fill: #174EA6;\n",
              "    }\n",
              "\n",
              "    [theme=dark] .colab-df-convert {\n",
              "      background-color: #3B4455;\n",
              "      fill: #D2E3FC;\n",
              "    }\n",
              "\n",
              "    [theme=dark] .colab-df-convert:hover {\n",
              "      background-color: #434B5C;\n",
              "      box-shadow: 0px 1px 3px 1px rgba(0, 0, 0, 0.15);\n",
              "      filter: drop-shadow(0px 1px 2px rgba(0, 0, 0, 0.3));\n",
              "      fill: #FFFFFF;\n",
              "    }\n",
              "  </style>\n",
              "\n",
              "      <script>\n",
              "        const buttonEl =\n",
              "          document.querySelector('#df-8fdea609-9e67-44c1-83d6-35b3afa553bc button.colab-df-convert');\n",
              "        buttonEl.style.display =\n",
              "          google.colab.kernel.accessAllowed ? 'block' : 'none';\n",
              "\n",
              "        async function convertToInteractive(key) {\n",
              "          const element = document.querySelector('#df-8fdea609-9e67-44c1-83d6-35b3afa553bc');\n",
              "          const dataTable =\n",
              "            await google.colab.kernel.invokeFunction('convertToInteractive',\n",
              "                                                     [key], {});\n",
              "          if (!dataTable) return;\n",
              "\n",
              "          const docLinkHtml = 'Like what you see? Visit the ' +\n",
              "            '<a target=\"_blank\" href=https://colab.research.google.com/notebooks/data_table.ipynb>data table notebook</a>'\n",
              "            + ' to learn more about interactive tables.';\n",
              "          element.innerHTML = '';\n",
              "          dataTable['output_type'] = 'display_data';\n",
              "          await google.colab.output.renderOutput(dataTable, element);\n",
              "          const docLink = document.createElement('div');\n",
              "          docLink.innerHTML = docLinkHtml;\n",
              "          element.appendChild(docLink);\n",
              "        }\n",
              "      </script>\n",
              "    </div>\n",
              "  </div>\n",
              "  "
            ]
          },
          "metadata": {},
          "execution_count": 10
        }
      ],
      "source": [
        "df = pd.json_normalize(data['items'])\n",
        "df.head()"
      ]
    },
    {
      "cell_type": "markdown",
      "metadata": {
        "id": "rwI_MmDZg_YC"
      },
      "source": [
        "Для получения полного описания вакансии потребуется задать отдельный запрос, используя ее `id`."
      ]
    },
    {
      "cell_type": "code",
      "execution_count": 11,
      "metadata": {
        "id": "Kqh0f9-ig_YC"
      },
      "outputs": [],
      "source": [
        "vacancy = df['id'].iloc[0]\n",
        "vacancy_url = f'https://api.hh.ru/vacancies/{vacancy}'\n",
        "\n",
        "req = requests.get(vacancy_url)\n",
        "vacancy_info = json.loads(req.content.decode())"
      ]
    },
    {
      "cell_type": "code",
      "execution_count": 9,
      "metadata": {
        "scrolled": false,
        "colab": {
          "base_uri": "https://localhost:8080/"
        },
        "id": "iGPqYDKvg_YC",
        "outputId": "37c67294-7f6b-4f30-c67a-6a9e069bbebc"
      },
      "outputs": [
        {
          "output_type": "execute_result",
          "data": {
            "text/plain": [
              "{'id': '74376536',\n",
              " 'premium': False,\n",
              " 'billing_type': {'id': 'standard_plus', 'name': 'Стандарт плюс'},\n",
              " 'relations': [],\n",
              " 'name': 'Data scientist',\n",
              " 'insider_interview': None,\n",
              " 'response_letter_required': False,\n",
              " 'area': {'id': '1', 'name': 'Москва', 'url': 'https://api.hh.ru/areas/1'},\n",
              " 'salary': {'from': 200000, 'to': 240000, 'currency': 'RUR', 'gross': False},\n",
              " 'type': {'id': 'open', 'name': 'Открытая'},\n",
              " 'address': {'city': 'Москва',\n",
              "  'street': 'Походный проезд',\n",
              "  'building': '14',\n",
              "  'lat': 55.838091,\n",
              "  'lng': 37.417167,\n",
              "  'description': None,\n",
              "  'raw': 'Москва, Походный проезд, 14',\n",
              "  'metro': None,\n",
              "  'metro_stations': []},\n",
              " 'allow_messages': True,\n",
              " 'experience': {'id': 'between3And6', 'name': 'От 3 до 6 лет'},\n",
              " 'schedule': {'id': 'remote', 'name': 'Удаленная работа'},\n",
              " 'employment': {'id': 'full', 'name': 'Полная занятость'},\n",
              " 'department': None,\n",
              " 'contacts': None,\n",
              " 'description': '<strong>Обязанности:</strong> <ul> <li>Работа в команде по созданию модуля Data Science &amp; AI, отвечающего за обработку данных, консолидированных в хранилище, и интеллектуальное обеспечение различных бизнес-процессов розничной компании.</li> <li>Анализ и обработка больших массивов структурированных и неструктурированных данных;</li> <li>Создание и развитие batch/real-time моделей персональных товарных предложений и рекомендаций для покупателей; развитие моделей сегментации и прогнозирования оттока; поиск структур в данных, прогнозирование спроса, оптимизация цен, распознавание изображений товаров, анализ тональности откликов, выявление мошенничества и пр.;</li> <li>Полный цикл (data collection, feature engineering, model fitting, model management, visualization, model serving) создания набора моделей на основе транзакционной и поведенческой информации;</li> <li>Участие в разработке и стандартизации ML-пайплайнов;</li> <li>Еxperiment и code-review.</li> </ul> <strong>Требования:</strong> <ul> <li>Опыт работы на позиции data scientist от 2ух лет;</li> <li>Знание основных алгоритмов и метрик машинного обучения;</li> <li>Ключевые навыки: Python, SQL, ML;</li> <li>Практические навыки работы с рекомендательными системами: знание архитектур и алгоритмов в основе collaborative filtering / content based / hybrid recommender systems;</li> <li>Аналитические способности и логическое мышление;</li> <li>Знание математической статистики и теории вероятности;</li> <li>Умение объяснять и адаптировать сложные системы и технические термины к ясной лаконичной форме для нетехнических специалистов;</li> <li>Умение работать в команде на результат;</li> <li>Внимательность;</li> <li>Ответственность;</li> <li>Целеустремлённость;</li> <li>Знание английского языка на уровне чтения технических материалов.</li> </ul> <p><strong>Приветствуется:</strong></p> <ul> <li>Опыт работы в компаниях в сфере розничной торговли;</li> <li>Образование - МФТИ, МГТУ им. Баумана, МГУ, СПбГУ, Сколтех, НГУ;</li> <li>Достижения по итогам участия в олимпиадах по техническим дисциплинам (математика, программирование, физика);</li> <li>Практические навыки работы с Deep Learning фреймворками PyTorch, TensorFlow и пр.;</li> <li>Участие в соревнованиях по решению задач с помощью машинного обучения (Kaggle, RecSys пр.);</li> <li>Участие в разработке opensourсe библиотек, пройденные за последний год оффлайн и онлайн курсы (coursera, udemy и пр.);</li> <li>Желателен опыт работы со Spark, Scala, Airflow.</li> </ul> <strong>Условия:</strong> <ul> <li>работа в аккредитованной IT-компании</li> <li>Оформление по ТК РФ</li> <li>График работы - гибкий, с учетом часовых поясов</li> <li>Перспективы профессионального роста (рост в зарплате и по карьерной лестнице)</li> <li>Возможна удаленная работа из-за границы, в том числе из Турции, Грузии, Армении, Казахстан, Узбекистан и др.</li> </ul>',\n",
              " 'branded_description': None,\n",
              " 'vacancy_constructor_template': None,\n",
              " 'key_skills': [{'name': 'Python'},\n",
              "  {'name': 'PyTorch'},\n",
              "  {'name': 'Machine Learning'},\n",
              "  {'name': 'Spark'},\n",
              "  {'name': 'SQL'}],\n",
              " 'accept_handicapped': False,\n",
              " 'accept_kids': False,\n",
              " 'archived': False,\n",
              " 'response_url': None,\n",
              " 'specializations': [{'id': '17.751',\n",
              "   'name': 'Другое',\n",
              "   'profarea_id': '17',\n",
              "   'profarea_name': 'Продажи'},\n",
              "  {'id': '1.25',\n",
              "   'name': 'Аналитик',\n",
              "   'profarea_id': '1',\n",
              "   'profarea_name': 'Информационные технологии, интернет, телеком'},\n",
              "  {'id': '3.26',\n",
              "   'name': 'Аналитик',\n",
              "   'profarea_id': '3',\n",
              "   'profarea_name': 'Маркетинг, реклама, PR'},\n",
              "  {'id': '12.746',\n",
              "   'name': 'Другое',\n",
              "   'profarea_id': '12',\n",
              "   'profarea_name': 'Консультирование'}],\n",
              " 'professional_roles': [{'id': '10', 'name': 'Аналитик'}],\n",
              " 'code': None,\n",
              " 'hidden': False,\n",
              " 'quick_responses_allowed': False,\n",
              " 'driver_license_types': [],\n",
              " 'accept_incomplete_resumes': False,\n",
              " 'employer': {'id': '606',\n",
              "  'name': 'Астор',\n",
              "  'url': 'https://api.hh.ru/employers/606',\n",
              "  'alternate_url': 'https://hh.ru/employer/606',\n",
              "  'logo_urls': {'original': 'https://hhcdn.ru/employer-logo-original/895922.png',\n",
              "   '90': 'https://hhcdn.ru/employer-logo/4024375.png',\n",
              "   '240': 'https://hhcdn.ru/employer-logo/4024376.png'},\n",
              "  'vacancies_url': 'https://api.hh.ru/vacancies?employer_id=606',\n",
              "  'trusted': True},\n",
              " 'published_at': '2023-03-01T13:01:29+0300',\n",
              " 'created_at': '2023-03-01T13:01:29+0300',\n",
              " 'initial_created_at': '2022-12-29T12:15:51+0300',\n",
              " 'negotiations_url': None,\n",
              " 'suitable_resumes_url': None,\n",
              " 'apply_alternate_url': 'https://hh.ru/applicant/vacancy_response?vacancyId=74376536',\n",
              " 'has_test': False,\n",
              " 'test': None,\n",
              " 'alternate_url': 'https://hh.ru/vacancy/74376536',\n",
              " 'working_days': [],\n",
              " 'working_time_intervals': [],\n",
              " 'working_time_modes': [],\n",
              " 'accept_temporary': False,\n",
              " 'languages': []}"
            ]
          },
          "metadata": {},
          "execution_count": 9
        }
      ],
      "source": [
        "vacancy_info"
      ]
    },
    {
      "cell_type": "markdown",
      "metadata": {
        "id": "FwedyPIyg_YC"
      },
      "source": [
        "### <font color=\"blue\"><i>Легкая часть</i></font>"
      ]
    },
    {
      "cell_type": "markdown",
      "metadata": {
        "id": "_gxWZKocg_YC"
      },
      "source": [
        " ---\n",
        "### Задача 1.   \n",
        "\n",
        "Исследуем профессию Data Scientist. Найдите как можно больше вакансий по этой профессии в Москве. Учтите, что имеет смысл искать также по другим ключевым словам, например, `аналитик данных`."
      ]
    },
    {
      "cell_type": "code",
      "execution_count": 12,
      "metadata": {
        "id": "8UBAgYg5g_YC"
      },
      "outputs": [],
      "source": [
        "URL = 'https://api.hh.ru/vacancies'\n",
        "params = dict(text=\"\\\"AI\\\" OR\"\n",
        "                    \"\\\"Big Data\\\" OR\"\n",
        "                    \"\\\"Data Analysis\\\" OR\"\n",
        "                    \"\\\"Data Analyst\\\" OR\"\n",
        "                    \"\\\"Data Engineer\\\" OR\"\n",
        "                    \"\\\"Data Science\\\" OR\"\n",
        "                    \"\\\"Data Scientist\\\" OR\"\n",
        "                    \"\\\"ML\\\" OR\"\n",
        "                    \"\\\"Machine learning\\\" OR\"\n",
        "                    \"\\\"Анализ Данных\\\" OR\"\n",
        "                    \"\\\"Аналитик Данных\\\" OR\"\n",
        "                    \"\\\"Инженер Данных\\\" OR\"\n",
        "                    \"\\\"Машинное обучение\\\"\",\n",
        "               area=1,\n",
        "               page={},\n",
        "               per_page=100)\n",
        "req = requests.get(URL, params)\n",
        "data = json.loads(req.content.decode())"
      ]
    },
    {
      "cell_type": "markdown",
      "source": [
        "Для дальнейшей обработки данных пройдем по всем страницам и сформируем полный список."
      ],
      "metadata": {
        "id": "Obh5hGXRl0IL"
      }
    },
    {
      "cell_type": "code",
      "source": [
        "pages = []\n",
        "for i in range(0, data['pages']):\n",
        "    params['page'] = i\n",
        "    req = requests.get(URL, params)\n",
        "    data = json.loads(req.content.decode())\n",
        "    pages.append(pd.json_normalize(data['items']))\n",
        "    sleep(1)\n",
        "\n",
        "# Соберем данные со всех страниц в один DataFrame\n",
        "pages_df = pd.concat(pages)\n",
        "pages_df.head()"
      ],
      "metadata": {
        "colab": {
          "base_uri": "https://localhost:8080/",
          "height": 508
        },
        "id": "VAmmqtK_mNBu",
        "outputId": "c46193ab-c14e-4194-eb00-f0a167b02384"
      },
      "execution_count": 13,
      "outputs": [
        {
          "output_type": "execute_result",
          "data": {
            "text/plain": [
              "         id  premium                              name  department  has_test  \\\n",
              "0  77502305    False    Аналитик данных / Data analyst         NaN     False   \n",
              "1  77590907    False    Data Engineer / Инженер данных         NaN     False   \n",
              "2  77580796    False                    Data Scientist         NaN     False   \n",
              "3  77586678    False                      Data Analyst         NaN     False   \n",
              "4  77587338    False  Senior Machine Learning Engineer         NaN     False   \n",
              "\n",
              "   response_letter_required  salary  address response_url sort_point_distance  \\\n",
              "0                      True     NaN      NaN         None                None   \n",
              "1                     False     NaN      NaN         None                None   \n",
              "2                     False     NaN      NaN         None                None   \n",
              "3                     False     NaN      NaN         None                None   \n",
              "4                     False     NaN      NaN         None                None   \n",
              "\n",
              "   ... address.metro.lng salary.from  salary.to salary.currency salary.gross  \\\n",
              "0  ...               NaN         NaN        NaN             NaN          NaN   \n",
              "1  ...               NaN         NaN        NaN             NaN          NaN   \n",
              "2  ...               NaN         NaN        NaN             NaN          NaN   \n",
              "3  ...         37.581242         NaN        NaN             NaN          NaN   \n",
              "4  ...               NaN         NaN        NaN             NaN          NaN   \n",
              "\n",
              "  department.id department.name insider_interview.id insider_interview.url  \\\n",
              "0           NaN             NaN                  NaN                   NaN   \n",
              "1           NaN             NaN                  NaN                   NaN   \n",
              "2           NaN             NaN                  NaN                   NaN   \n",
              "3           NaN             NaN                  NaN                   NaN   \n",
              "4           NaN             NaN                  NaN                   NaN   \n",
              "\n",
              "  employer.logo_urls  \n",
              "0                NaN  \n",
              "1                NaN  \n",
              "2                NaN  \n",
              "3                NaN  \n",
              "4                NaN  \n",
              "\n",
              "[5 rows x 69 columns]"
            ],
            "text/html": [
              "\n",
              "  <div id=\"df-4e5e3f45-898a-4ed8-927d-1afe645841e8\">\n",
              "    <div class=\"colab-df-container\">\n",
              "      <div>\n",
              "<style scoped>\n",
              "    .dataframe tbody tr th:only-of-type {\n",
              "        vertical-align: middle;\n",
              "    }\n",
              "\n",
              "    .dataframe tbody tr th {\n",
              "        vertical-align: top;\n",
              "    }\n",
              "\n",
              "    .dataframe thead th {\n",
              "        text-align: right;\n",
              "    }\n",
              "</style>\n",
              "<table border=\"1\" class=\"dataframe\">\n",
              "  <thead>\n",
              "    <tr style=\"text-align: right;\">\n",
              "      <th></th>\n",
              "      <th>id</th>\n",
              "      <th>premium</th>\n",
              "      <th>name</th>\n",
              "      <th>department</th>\n",
              "      <th>has_test</th>\n",
              "      <th>response_letter_required</th>\n",
              "      <th>salary</th>\n",
              "      <th>address</th>\n",
              "      <th>response_url</th>\n",
              "      <th>sort_point_distance</th>\n",
              "      <th>...</th>\n",
              "      <th>address.metro.lng</th>\n",
              "      <th>salary.from</th>\n",
              "      <th>salary.to</th>\n",
              "      <th>salary.currency</th>\n",
              "      <th>salary.gross</th>\n",
              "      <th>department.id</th>\n",
              "      <th>department.name</th>\n",
              "      <th>insider_interview.id</th>\n",
              "      <th>insider_interview.url</th>\n",
              "      <th>employer.logo_urls</th>\n",
              "    </tr>\n",
              "  </thead>\n",
              "  <tbody>\n",
              "    <tr>\n",
              "      <th>0</th>\n",
              "      <td>77502305</td>\n",
              "      <td>False</td>\n",
              "      <td>Аналитик данных / Data analyst</td>\n",
              "      <td>NaN</td>\n",
              "      <td>False</td>\n",
              "      <td>True</td>\n",
              "      <td>NaN</td>\n",
              "      <td>NaN</td>\n",
              "      <td>None</td>\n",
              "      <td>None</td>\n",
              "      <td>...</td>\n",
              "      <td>NaN</td>\n",
              "      <td>NaN</td>\n",
              "      <td>NaN</td>\n",
              "      <td>NaN</td>\n",
              "      <td>NaN</td>\n",
              "      <td>NaN</td>\n",
              "      <td>NaN</td>\n",
              "      <td>NaN</td>\n",
              "      <td>NaN</td>\n",
              "      <td>NaN</td>\n",
              "    </tr>\n",
              "    <tr>\n",
              "      <th>1</th>\n",
              "      <td>77590907</td>\n",
              "      <td>False</td>\n",
              "      <td>Data Engineer / Инженер данных</td>\n",
              "      <td>NaN</td>\n",
              "      <td>False</td>\n",
              "      <td>False</td>\n",
              "      <td>NaN</td>\n",
              "      <td>NaN</td>\n",
              "      <td>None</td>\n",
              "      <td>None</td>\n",
              "      <td>...</td>\n",
              "      <td>NaN</td>\n",
              "      <td>NaN</td>\n",
              "      <td>NaN</td>\n",
              "      <td>NaN</td>\n",
              "      <td>NaN</td>\n",
              "      <td>NaN</td>\n",
              "      <td>NaN</td>\n",
              "      <td>NaN</td>\n",
              "      <td>NaN</td>\n",
              "      <td>NaN</td>\n",
              "    </tr>\n",
              "    <tr>\n",
              "      <th>2</th>\n",
              "      <td>77580796</td>\n",
              "      <td>False</td>\n",
              "      <td>Data Scientist</td>\n",
              "      <td>NaN</td>\n",
              "      <td>False</td>\n",
              "      <td>False</td>\n",
              "      <td>NaN</td>\n",
              "      <td>NaN</td>\n",
              "      <td>None</td>\n",
              "      <td>None</td>\n",
              "      <td>...</td>\n",
              "      <td>NaN</td>\n",
              "      <td>NaN</td>\n",
              "      <td>NaN</td>\n",
              "      <td>NaN</td>\n",
              "      <td>NaN</td>\n",
              "      <td>NaN</td>\n",
              "      <td>NaN</td>\n",
              "      <td>NaN</td>\n",
              "      <td>NaN</td>\n",
              "      <td>NaN</td>\n",
              "    </tr>\n",
              "    <tr>\n",
              "      <th>3</th>\n",
              "      <td>77586678</td>\n",
              "      <td>False</td>\n",
              "      <td>Data Analyst</td>\n",
              "      <td>NaN</td>\n",
              "      <td>False</td>\n",
              "      <td>False</td>\n",
              "      <td>NaN</td>\n",
              "      <td>NaN</td>\n",
              "      <td>None</td>\n",
              "      <td>None</td>\n",
              "      <td>...</td>\n",
              "      <td>37.581242</td>\n",
              "      <td>NaN</td>\n",
              "      <td>NaN</td>\n",
              "      <td>NaN</td>\n",
              "      <td>NaN</td>\n",
              "      <td>NaN</td>\n",
              "      <td>NaN</td>\n",
              "      <td>NaN</td>\n",
              "      <td>NaN</td>\n",
              "      <td>NaN</td>\n",
              "    </tr>\n",
              "    <tr>\n",
              "      <th>4</th>\n",
              "      <td>77587338</td>\n",
              "      <td>False</td>\n",
              "      <td>Senior Machine Learning Engineer</td>\n",
              "      <td>NaN</td>\n",
              "      <td>False</td>\n",
              "      <td>False</td>\n",
              "      <td>NaN</td>\n",
              "      <td>NaN</td>\n",
              "      <td>None</td>\n",
              "      <td>None</td>\n",
              "      <td>...</td>\n",
              "      <td>NaN</td>\n",
              "      <td>NaN</td>\n",
              "      <td>NaN</td>\n",
              "      <td>NaN</td>\n",
              "      <td>NaN</td>\n",
              "      <td>NaN</td>\n",
              "      <td>NaN</td>\n",
              "      <td>NaN</td>\n",
              "      <td>NaN</td>\n",
              "      <td>NaN</td>\n",
              "    </tr>\n",
              "  </tbody>\n",
              "</table>\n",
              "<p>5 rows × 69 columns</p>\n",
              "</div>\n",
              "      <button class=\"colab-df-convert\" onclick=\"convertToInteractive('df-4e5e3f45-898a-4ed8-927d-1afe645841e8')\"\n",
              "              title=\"Convert this dataframe to an interactive table.\"\n",
              "              style=\"display:none;\">\n",
              "        \n",
              "  <svg xmlns=\"http://www.w3.org/2000/svg\" height=\"24px\"viewBox=\"0 0 24 24\"\n",
              "       width=\"24px\">\n",
              "    <path d=\"M0 0h24v24H0V0z\" fill=\"none\"/>\n",
              "    <path d=\"M18.56 5.44l.94 2.06.94-2.06 2.06-.94-2.06-.94-.94-2.06-.94 2.06-2.06.94zm-11 1L8.5 8.5l.94-2.06 2.06-.94-2.06-.94L8.5 2.5l-.94 2.06-2.06.94zm10 10l.94 2.06.94-2.06 2.06-.94-2.06-.94-.94-2.06-.94 2.06-2.06.94z\"/><path d=\"M17.41 7.96l-1.37-1.37c-.4-.4-.92-.59-1.43-.59-.52 0-1.04.2-1.43.59L10.3 9.45l-7.72 7.72c-.78.78-.78 2.05 0 2.83L4 21.41c.39.39.9.59 1.41.59.51 0 1.02-.2 1.41-.59l7.78-7.78 2.81-2.81c.8-.78.8-2.07 0-2.86zM5.41 20L4 18.59l7.72-7.72 1.47 1.35L5.41 20z\"/>\n",
              "  </svg>\n",
              "      </button>\n",
              "      \n",
              "  <style>\n",
              "    .colab-df-container {\n",
              "      display:flex;\n",
              "      flex-wrap:wrap;\n",
              "      gap: 12px;\n",
              "    }\n",
              "\n",
              "    .colab-df-convert {\n",
              "      background-color: #E8F0FE;\n",
              "      border: none;\n",
              "      border-radius: 50%;\n",
              "      cursor: pointer;\n",
              "      display: none;\n",
              "      fill: #1967D2;\n",
              "      height: 32px;\n",
              "      padding: 0 0 0 0;\n",
              "      width: 32px;\n",
              "    }\n",
              "\n",
              "    .colab-df-convert:hover {\n",
              "      background-color: #E2EBFA;\n",
              "      box-shadow: 0px 1px 2px rgba(60, 64, 67, 0.3), 0px 1px 3px 1px rgba(60, 64, 67, 0.15);\n",
              "      fill: #174EA6;\n",
              "    }\n",
              "\n",
              "    [theme=dark] .colab-df-convert {\n",
              "      background-color: #3B4455;\n",
              "      fill: #D2E3FC;\n",
              "    }\n",
              "\n",
              "    [theme=dark] .colab-df-convert:hover {\n",
              "      background-color: #434B5C;\n",
              "      box-shadow: 0px 1px 3px 1px rgba(0, 0, 0, 0.15);\n",
              "      filter: drop-shadow(0px 1px 2px rgba(0, 0, 0, 0.3));\n",
              "      fill: #FFFFFF;\n",
              "    }\n",
              "  </style>\n",
              "\n",
              "      <script>\n",
              "        const buttonEl =\n",
              "          document.querySelector('#df-4e5e3f45-898a-4ed8-927d-1afe645841e8 button.colab-df-convert');\n",
              "        buttonEl.style.display =\n",
              "          google.colab.kernel.accessAllowed ? 'block' : 'none';\n",
              "\n",
              "        async function convertToInteractive(key) {\n",
              "          const element = document.querySelector('#df-4e5e3f45-898a-4ed8-927d-1afe645841e8');\n",
              "          const dataTable =\n",
              "            await google.colab.kernel.invokeFunction('convertToInteractive',\n",
              "                                                     [key], {});\n",
              "          if (!dataTable) return;\n",
              "\n",
              "          const docLinkHtml = 'Like what you see? Visit the ' +\n",
              "            '<a target=\"_blank\" href=https://colab.research.google.com/notebooks/data_table.ipynb>data table notebook</a>'\n",
              "            + ' to learn more about interactive tables.';\n",
              "          element.innerHTML = '';\n",
              "          dataTable['output_type'] = 'display_data';\n",
              "          await google.colab.output.renderOutput(dataTable, element);\n",
              "          const docLink = document.createElement('div');\n",
              "          docLink.innerHTML = docLinkHtml;\n",
              "          element.appendChild(docLink);\n",
              "        }\n",
              "      </script>\n",
              "    </div>\n",
              "  </div>\n",
              "  "
            ]
          },
          "metadata": {},
          "execution_count": 13
        }
      ]
    },
    {
      "cell_type": "markdown",
      "metadata": {
        "id": "dA205uvng_YC"
      },
      "source": [
        "В полученную выборку некоторые вакансии могли попасть несколько раз. Удалите дубликаты."
      ]
    },
    {
      "cell_type": "markdown",
      "source": [
        "Заметим, что дубликаты имеют равные значения \"id\""
      ],
      "metadata": {
        "id": "Pq-1OZolsxk6"
      }
    },
    {
      "cell_type": "code",
      "execution_count": 14,
      "metadata": {
        "colab": {
          "base_uri": "https://localhost:8080/"
        },
        "id": "vVYPJomSg_YC",
        "outputId": "298091c4-3b3b-4719-bb88-3d4829228398"
      },
      "outputs": [
        {
          "output_type": "stream",
          "name": "stdout",
          "text": [
            "<class 'pandas.core.frame.DataFrame'>\n",
            "Int64Index: 1987 entries, 0 to 1999\n",
            "Data columns (total 69 columns):\n",
            " #   Column                       Non-Null Count  Dtype  \n",
            "---  ------                       --------------  -----  \n",
            " 0   id                           1987 non-null   object \n",
            " 1   premium                      1987 non-null   bool   \n",
            " 2   name                         1987 non-null   object \n",
            " 3   department                   0 non-null      float64\n",
            " 4   has_test                     1987 non-null   bool   \n",
            " 5   response_letter_required     1987 non-null   bool   \n",
            " 6   salary                       0 non-null      float64\n",
            " 7   address                      0 non-null      float64\n",
            " 8   response_url                 0 non-null      object \n",
            " 9   sort_point_distance          0 non-null      object \n",
            " 10  published_at                 1987 non-null   object \n",
            " 11  created_at                   1987 non-null   object \n",
            " 12  archived                     1987 non-null   bool   \n",
            " 13  apply_alternate_url          1987 non-null   object \n",
            " 14  insider_interview            0 non-null      object \n",
            " 15  url                          1987 non-null   object \n",
            " 16  adv_response_url             0 non-null      object \n",
            " 17  alternate_url                1987 non-null   object \n",
            " 18  relations                    1987 non-null   object \n",
            " 19  contacts                     0 non-null      object \n",
            " 20  working_days                 1987 non-null   object \n",
            " 21  working_time_intervals       1987 non-null   object \n",
            " 22  working_time_modes           1987 non-null   object \n",
            " 23  accept_temporary             1987 non-null   bool   \n",
            " 24  professional_roles           1987 non-null   object \n",
            " 25  accept_incomplete_resumes    1987 non-null   bool   \n",
            " 26  area.id                      1987 non-null   object \n",
            " 27  area.name                    1987 non-null   object \n",
            " 28  area.url                     1987 non-null   object \n",
            " 29  type.id                      1987 non-null   object \n",
            " 30  type.name                    1987 non-null   object \n",
            " 31  employer.id                  1983 non-null   object \n",
            " 32  employer.name                1987 non-null   object \n",
            " 33  employer.url                 1983 non-null   object \n",
            " 34  employer.alternate_url       1983 non-null   object \n",
            " 35  employer.logo_urls.original  1871 non-null   object \n",
            " 36  employer.logo_urls.90        1871 non-null   object \n",
            " 37  employer.logo_urls.240       1871 non-null   object \n",
            " 38  employer.vacancies_url       1983 non-null   object \n",
            " 39  employer.trusted             1987 non-null   bool   \n",
            " 40  snippet.requirement          1981 non-null   object \n",
            " 41  snippet.responsibility       1972 non-null   object \n",
            " 42  schedule.id                  1987 non-null   object \n",
            " 43  schedule.name                1987 non-null   object \n",
            " 44  address.city                 865 non-null    object \n",
            " 45  address.street               856 non-null    object \n",
            " 46  address.building             830 non-null    object \n",
            " 47  address.lat                  872 non-null    float64\n",
            " 48  address.lng                  872 non-null    float64\n",
            " 49  address.description          0 non-null      float64\n",
            " 50  address.raw                  894 non-null    object \n",
            " 51  address.metro                0 non-null      float64\n",
            " 52  address.metro_stations       949 non-null    object \n",
            " 53  address.id                   949 non-null    object \n",
            " 54  address.metro.station_name   686 non-null    object \n",
            " 55  address.metro.line_name      686 non-null    object \n",
            " 56  address.metro.station_id     686 non-null    object \n",
            " 57  address.metro.line_id        686 non-null    object \n",
            " 58  address.metro.lat            686 non-null    float64\n",
            " 59  address.metro.lng            686 non-null    float64\n",
            " 60  salary.from                  352 non-null    float64\n",
            " 61  salary.to                    293 non-null    float64\n",
            " 62  salary.currency              441 non-null    object \n",
            " 63  salary.gross                 441 non-null    object \n",
            " 64  department.id                525 non-null    object \n",
            " 65  department.name              525 non-null    object \n",
            " 66  insider_interview.id         58 non-null     object \n",
            " 67  insider_interview.url        58 non-null     object \n",
            " 68  employer.logo_urls           0 non-null      float64\n",
            "dtypes: bool(7), float64(12), object(50)\n",
            "memory usage: 991.6+ KB\n"
          ]
        }
      ],
      "source": [
        "pages_df.reset_index(inplace=True)\n",
        "pages_df.drop_duplicates(subset=['id'], inplace=True)\n",
        "pages_df.drop('index', axis=1, inplace=True)\n",
        "pages_df.info()"
      ]
    },
    {
      "cell_type": "markdown",
      "metadata": {
        "id": "l0y_wQY2g_YC"
      },
      "source": [
        "Загрузите подробное описание каждой вакансии и создайте удобную для дальнейших действий таблицу данных."
      ]
    },
    {
      "cell_type": "code",
      "execution_count": 15,
      "metadata": {
        "id": "Xisk0Bm6g_YC"
      },
      "outputs": [],
      "source": [
        "vacancies_info= []\n",
        "key_skills = []\n",
        "employer_name = []\n",
        "experience = []\n",
        "coordinate_lat = []\n",
        "coordinate_lng = []\n",
        "\n",
        "for s in range(0, pages_df.shape[0]):\n",
        "    vacancy = pages_df['id'].iloc[s]\n",
        "    req = requests.get(f'https://api.hh.ru/vacancies/{vacancy}')\n",
        "    info = json.loads(req.content.decode())\n",
        "\n",
        "    if 'errors' in info:\n",
        "      print('тебя приняли за DDOS атакующего :(( ')\n",
        "      break\n",
        "\n",
        "    # добавляем описание вакансии\n",
        "    vacancies_info.append(info['description'])\n",
        "\n",
        "    # добавляем ключевые навыки \n",
        "    key_skills.append([skill['name'] for skill in info['key_skills']])\n",
        "\n",
        "    # обрабатываем работодателя текущей вакансии\n",
        "    if info['employer'] is not None and 'name' in info['employer']:\n",
        "        employer_name.append(info['employer']['name'])\n",
        "    else:\n",
        "        employer_name.append(None)\n",
        "\n",
        "    # обрабатываем требуемый опыт работы\n",
        "    if info['experience'] is not None and 'id' in info['experience']:\n",
        "        experience.append(info['experience']['id'])\n",
        "    else:\n",
        "        experience.append(None)\n",
        "\n",
        "    # обрабатываем координаты рабочего места\n",
        "    if info['address'] is not None and 'lat' in info['address']:\n",
        "        coordinate_lat.append(info['address']['lat'])\n",
        "    else:\n",
        "        coordinate_lat.append(None)\n",
        "\n",
        "    if info['address'] is not None and 'lng' in info['address']:\n",
        "        coordinate_lng.append(info['address']['lng'])\n",
        "    else:\n",
        "        coordinate_lng.append(None)\n",
        "\n",
        "    sleep(0.5)"
      ]
    },
    {
      "cell_type": "markdown",
      "source": [
        "Исходная таблица содержит много незаполненных работодателями полей (большинство объектов в них нулевые), оставлю часть тех, в которых содержится полезная информация."
      ],
      "metadata": {
        "id": "DA02ap6K4CyY"
      }
    },
    {
      "cell_type": "code",
      "source": [
        "target_fields = ['id', 'name', 'has_test', 'response_letter_required', 'working_days', 'accept_temporary','professional_roles', 'salary.from', 'salary.to', 'salary.currency', 'salary.gross']\n",
        "pages_df_new = pages_df.loc[:, target_fields]"
      ],
      "metadata": {
        "id": "LsqAVyqq4iu4"
      },
      "execution_count": 55,
      "outputs": []
    },
    {
      "cell_type": "markdown",
      "source": [
        "Далее добавим поля, загруженные два шага назад."
      ],
      "metadata": {
        "id": "HO5UeMVKCRBP"
      }
    },
    {
      "cell_type": "code",
      "source": [
        "pages_df_new['vacancy_info'] = vacancies_info\n",
        "pages_df_new['key_skills'] = key_skills\n",
        "pages_df_new['experience'] = experience\n",
        "pages_df_new['employer_name'] = employer_name"
      ],
      "metadata": {
        "id": "COGatjWHCXnc"
      },
      "execution_count": 56,
      "outputs": []
    },
    {
      "cell_type": "markdown",
      "source": [
        "Сохраним полученную таблицу в требуемом формате."
      ],
      "metadata": {
        "id": "yPwJ0OmtCgLE"
      }
    },
    {
      "cell_type": "code",
      "source": [
        "pages_df_new.to_excel('vacancies_info.xlsx')"
      ],
      "metadata": {
        "id": "70RW3ZR5CvIk"
      },
      "execution_count": 57,
      "outputs": []
    },
    {
      "cell_type": "markdown",
      "metadata": {
        "id": "a5UjVkCWg_YC"
      },
      "source": [
        "**Полученную таблицу необходимо сохранить в формате xlsx и отправить боту вместе с решением.**"
      ]
    },
    {
      "cell_type": "markdown",
      "metadata": {
        "id": "SyK00GBMg_YC"
      },
      "source": [
        "**Вопрос 1.** Сколько сейчас доступно вакансий по вашему запросу?"
      ]
    },
    {
      "cell_type": "code",
      "execution_count": 21,
      "metadata": {
        "colab": {
          "base_uri": "https://localhost:8080/"
        },
        "id": "4NP2YKq4g_YC",
        "outputId": "2283811e-363b-4c2b-e2b9-4f1dc73aff0a"
      },
      "outputs": [
        {
          "output_type": "execute_result",
          "data": {
            "text/plain": [
              "5285"
            ]
          },
          "metadata": {},
          "execution_count": 21
        }
      ],
      "source": [
        "data['found']"
      ]
    },
    {
      "cell_type": "markdown",
      "source": [
        "Заметим, что в xlsx таблице всего 2000 строк, это связано с ограничениями API hh.ru"
      ],
      "metadata": {
        "id": "hfwCt_kVXlxi"
      }
    },
    {
      "cell_type": "markdown",
      "metadata": {
        "id": "YsIlwA8mg_YC"
      },
      "source": [
        "**Вопрос 2.** Какие навыки чаще всего встречаются в вакансиях по данной специальности?\n",
        "\n",
        "Для этого найдите соответствующее поле в данных из полного описания вакансий, проанализируйте его и составьте список навыков и количество упоминаний каждого. Визуализируйте полученную информацию по топ-15 навыков."
      ]
    },
    {
      "cell_type": "code",
      "execution_count": 20,
      "metadata": {
        "id": "ROg4fo04g_YD"
      },
      "outputs": [],
      "source": [
        "popular_skills = {}\n",
        "for i in range(len(key_skills)):\n",
        "  skills_list = [j.lower() for j in key_skills[i][:]]\n",
        "  for skill in skills_list:\n",
        "    if skill in popular_skills:\n",
        "      popular_skills[skill] += 1\n",
        "    else:\n",
        "      popular_skills[skill] = 1"
      ]
    },
    {
      "cell_type": "markdown",
      "source": [
        "Для того, чтобы визуализировать полученную информацию, создадим DataFrame из отсортированных данных."
      ],
      "metadata": {
        "id": "f_gH3uMH8aLf"
      }
    },
    {
      "cell_type": "code",
      "source": [
        "sorted_skills_tmp = sorted(popular_skills.items(), key=lambda item: item[1], reverse=True)\n",
        "sorted_skills = pd.DataFrame(sorted_skills_tmp, columns=['Навык', 'Количество упоминаний'])"
      ],
      "metadata": {
        "id": "TtTNwFMWaJ32"
      },
      "execution_count": 42,
      "outputs": []
    },
    {
      "cell_type": "markdown",
      "source": [
        "Визуализация:"
      ],
      "metadata": {
        "id": "Z7p8N_94A3nE"
      }
    },
    {
      "cell_type": "code",
      "source": [
        "sns.set(rc={'figure.figsize':(100,100)}, font_scale=1)\n",
        "sns.catplot(data=sorted_skills[0:15], x='Количество упоминаний', y='Навык', height=12, kind='bar', palette=\"pastel\", edgecolor=\".6\")\n",
        "plt.title('Топ-15 навыков из резюме для профессии Data Science', fontsize=15)"
      ],
      "metadata": {
        "colab": {
          "base_uri": "https://localhost:8080/",
          "height": 905
        },
        "id": "VEkA-JxOA5az",
        "outputId": "37e4b63c-5de0-4da1-d798-83938aa98e5b"
      },
      "execution_count": 52,
      "outputs": [
        {
          "output_type": "execute_result",
          "data": {
            "text/plain": [
              "Text(0.5, 1.0, 'Топ-15 навыков из резюме для профессии Data Science')"
            ]
          },
          "metadata": {},
          "execution_count": 52
        },
        {
          "output_type": "display_data",
          "data": {
            "text/plain": [
              "<Figure size 864x864 with 1 Axes>"
            ],
            "image/png": "[encoded data removed]"
          },
          "metadata": {}
        }
      ]
    },
    {
      "cell_type": "markdown",
      "metadata": {
        "id": "8Kec2PUtg_YD"
      },
      "source": [
        "**Вопрос 3.** Какую зарплату готовы платить работодатели? Соберите некоторым образом статистику и постройте гистограмму.\n",
        "\n",
        "При работе с данными о заработной плате обратите внимание на валюту и <a target=\"_blank\" href=\"https://yandex.ru/search/?text=gross%2Fnet&clid=1955455&win=446&lr=213&noreask=1\">gross/net</a>. Постоянно подгружать курс валюты не требуется, достаточно фиксировать какой-то один более менее актуальный."
      ]
    },
    {
      "cell_type": "markdown",
      "source": [
        "Для начала выделим отдельный DataFrame, содержащий информацию о зарплате"
      ],
      "metadata": {
        "id": "4l1drcWdKpFP"
      }
    },
    {
      "cell_type": "code",
      "source": [
        "salary_target_fields = ['salary.from', 'salary.to', 'salary.currency', 'salary.gross']\n",
        "salary_info = pages_df_new.loc[:, salary_target_fields]"
      ],
      "metadata": {
        "id": "TXe9niZXKxeA"
      },
      "execution_count": 60,
      "outputs": []
    },
    {
      "cell_type": "code",
      "execution_count": 61,
      "metadata": {
        "id": "IIZALI6Fg_YD"
      },
      "outputs": [],
      "source": [
        "# Уберем пропуски в данных\n",
        "salary_info.dropna(inplace=True)"
      ]
    },
    {
      "cell_type": "markdown",
      "source": [
        "Проанализируем зарплату в рублях и построим гистограмму, которая отражает количество вакансий для среднего арифметического зарплатной вилки"
      ],
      "metadata": {
        "id": "SVhDut2HMRcU"
      }
    },
    {
      "cell_type": "code",
      "source": [
        "salary_in_rubles = salary_info[salary_info['salary.currency'] == 'RUR']\n",
        "plt.figure(figsize=(16, 8))\n",
        "sns.set(style=\"darkgrid\")\n",
        "sns.histplot(data=salary_in_rubles, x=(salary_in_rubles['salary.from'] + salary_in_rubles['salary.to']) / 2, bins=50, palette='pastel')\n",
        "plt.title('Распределения заработка в рублях', fontsize=15)\n",
        "plt.xlabel('Середина зарплатной вилки', fontsize=15)\n",
        "plt.ylabel('Число вакансий', fontsize=15)"
      ],
      "metadata": {
        "colab": {
          "base_uri": "https://localhost:8080/",
          "height": 541
        },
        "id": "FUtEyz0TMbCl",
        "outputId": "ce68fc9e-6304-40b9-d7f0-927a8d3e684e"
      },
      "execution_count": 72,
      "outputs": [
        {
          "output_type": "execute_result",
          "data": {
            "text/plain": [
              "Text(0, 0.5, 'Число вакансий')"
            ]
          },
          "metadata": {},
          "execution_count": 72
        },
        {
          "output_type": "display_data",
          "data": {
            "text/plain": [
              "<Figure size 1152x576 with 1 Axes>"
            ],
            "image/png": "[encoded data removed]"
          },
          "metadata": {}
        }
      ]
    },
    {
      "cell_type": "markdown",
      "source": [
        "Проанализируем таким же образом зарплату в долларах"
      ],
      "metadata": {
        "id": "TaUrw0YnOoLv"
      }
    },
    {
      "cell_type": "code",
      "source": [
        "salary_in_for_curr = salary_info[(salary_info['salary.currency'] == 'USD') | (salary_info['salary.currency'] == 'EUR')]\n",
        "coef_usd_to_eur = 1.06\n",
        "salary_in_for_curr.loc[salary_in_for_curr['salary.currency'] == 'EUR', ['salary.from', 'salary.to']] *= coef_usd_to_eur\n",
        "plt.figure(figsize=(16, 8))\n",
        "sns.set(style=\"darkgrid\")\n",
        "sns.histplot(data=salary_in_for_curr, x=(salary_in_for_curr['salary.from'] + salary_in_for_curr['salary.to']) / 2, bins=50, palette='pastel')\n",
        "plt.title('Распределения заработка в долларах или евро', fontsize=15)\n",
        "plt.xlabel('Середина зарплатной вилки', fontsize=15)\n",
        "plt.ylabel('Число вакансий', fontsize=15)"
      ],
      "metadata": {
        "colab": {
          "base_uri": "https://localhost:8080/",
          "height": 652
        },
        "id": "0fngVYbzOs2M",
        "outputId": "63b376ad-19a7-467c-8a4d-2597b41de47e"
      },
      "execution_count": 81,
      "outputs": [
        {
          "output_type": "stream",
          "name": "stderr",
          "text": [
            "/usr/local/lib/python3.8/dist-packages/pandas/core/indexing.py:1884: SettingWithCopyWarning: \n",
            "A value is trying to be set on a copy of a slice from a DataFrame.\n",
            "Try using .loc[row_indexer,col_indexer] = value instead\n",
            "\n",
            "See the caveats in the documentation: https://pandas.pydata.org/pandas-docs/stable/user_guide/indexing.html#returning-a-view-versus-a-copy\n",
            "  self._setitem_single_column(loc, val, pi)\n"
          ]
        },
        {
          "output_type": "execute_result",
          "data": {
            "text/plain": [
              "Text(0, 0.5, 'Число вакансий')"
            ]
          },
          "metadata": {},
          "execution_count": 81
        },
        {
          "output_type": "display_data",
          "data": {
            "text/plain": [
              "<Figure size 1152x576 with 1 Axes>"
            ],
            "image/png": "[encoded data removed]"
          },
          "metadata": {}
        }
      ]
    },
    {
      "cell_type": "markdown",
      "source": [
        "Анализ gross/net"
      ],
      "metadata": {
        "id": "PQOnq-4MYfBy"
      }
    },
    {
      "cell_type": "code",
      "source": [
        "offer_with_gross = salary_info['salary.gross'].count()\n",
        "offer_with_net = pages_df_new['salary.gross'].count() - offer_with_gross\n",
        "print('Количество преложений с зарплатой gross ', offer_with_gross)\n",
        "print('Количество преложений с зарплатой net ', offer_with_net)"
      ],
      "metadata": {
        "colab": {
          "base_uri": "https://localhost:8080/"
        },
        "id": "sPoksnmiYfdq",
        "outputId": "2e4b350e-ab51-43c1-ce33-77190ab37aef"
      },
      "execution_count": 85,
      "outputs": [
        {
          "output_type": "stream",
          "name": "stdout",
          "text": [
            "Количество преложений с зарплатой gross  204\n",
            "Количество преложений с зарплатой net  237\n"
          ]
        }
      ]
    },
    {
      "cell_type": "markdown",
      "source": [
        "**Выводы**:\n",
        "\n",
        "\n",
        "1.   Человеку, желающему найти работу в сфере Data Science, необходимы знания Python, SQL и анализа данных, не лишним будет иметь аналитическое мышление. Расширенный список требуемых работодателями навыков можно увидеть на графике в вопросе 2.\n",
        "2.   На рынке вакансий сейчас большой спрос на начинающих специалистов и специалистов средней квалификации (этот вывод сделан из того, что наибольшее количество вакансий имеют среднее арифметическое зарплатной вилки - 100 тысяч рублей). Также можно сделать вывод, что работа в Data Science - одна из самых высокоплачиваемых, потому что много предложений находятся в зарплатной вилке 400 тысяч - 500 тысяч.\n",
        "3. Данных о заработке в иностранной валюте на сайте hh.ru не очень много, но эти предложения все еще высокооплачиваемые: заработная плата колеблется от 4000$ до 14000$\n",
        "4. Большинство работодалетей указывают зарплату с вычетом налогов, т.е. в формате net.\n",
        "Мое исследование было ограничено количеством данных (ограничение в 2000 со стороны API hh.ru), также при рассмотрении зарплатных вилок я не учитывала такие показатели как количество рабочих часов и наличие/отсутствие gross/net."
      ],
      "metadata": {
        "id": "mUYUWcTxTMt2"
      }
    },
    {
      "cell_type": "markdown",
      "metadata": {
        "id": "bu9PWGW7g_YD"
      },
      "source": [
        "Проведите аналогичный анализ для наиболее привлекательной для вас профессии в любом регионе. Если это Data Scientist, то для анализа выберите другую. В данном пункте спокойно можно сделать копипасту кода."
      ]
    },
    {
      "cell_type": "markdown",
      "source": [
        "Согласно статистике из интернета, самой популярной вакансией на сайте hh.ru является \"Менеджер по продажам\". Мне стало интересно исследовать причину популярности этой вакансии, требования работодателей и размеры заработной платы.\n",
        "\n",
        "Сформирую новый шаблон для запроса:\n",
        "\n"
      ],
      "metadata": {
        "id": "8NDpwR4XLDqo"
      }
    },
    {
      "cell_type": "code",
      "execution_count": 39,
      "metadata": {
        "id": "MhOyDy6-g_YD"
      },
      "outputs": [],
      "source": [
        "URL = 'https://api.hh.ru/vacancies'\n",
        "params = dict(text=\"\\\"Менеджер по продажам\\\" OR\"\n",
        "                    \"\\\"Sales Manager\\\" OR\"\n",
        "                    \"\\\"Менеджер по работе с клиентами\\\" OR\",\n",
        "               area=1,\n",
        "               page={},\n",
        "               per_page=100)\n",
        "req = requests.get(URL, params)\n",
        "data_manager = json.loads(req.content.decode())"
      ]
    },
    {
      "cell_type": "markdown",
      "source": [
        "Сформирую полный список всех найденных вакансий"
      ],
      "metadata": {
        "id": "Js8Ost-aPAUF"
      }
    },
    {
      "cell_type": "code",
      "source": [
        "pages_manager = []\n",
        "for i in range(0, data_manager['pages']):\n",
        "    params['page'] = i\n",
        "    req = requests.get(URL, params)\n",
        "    data_manager = json.loads(req.content.decode())\n",
        "    pages_manager.append(pd.json_normalize(data_manager['items']))\n",
        "    sleep(0.5)\n",
        "\n",
        "# Соберем данные со всех страниц в один DataFrame\n",
        "pages_manager_df = pd.concat(pages_manager)\n",
        "pages_manager_df.head()"
      ],
      "metadata": {
        "colab": {
          "base_uri": "https://localhost:8080/",
          "height": 664
        },
        "id": "NmxbAuIYPEEv",
        "outputId": "1b5788e3-addb-4d62-b3dc-67f949a0a8f1"
      },
      "execution_count": 40,
      "outputs": [
        {
          "output_type": "execute_result",
          "data": {
            "text/plain": [
              "         id  premium                                           name  \\\n",
              "0  72786164     True  Менеджер по продажам / Sales manager (в офис)   \n",
              "1  77005817     True   Менеджер по продажам (без поиска / удаленно)   \n",
              "2  77491403     True     Менеджер по продажам (без поиска клиентов)   \n",
              "3  77125671    False      Менеджер по продажам и работе с клиентами   \n",
              "4  76141770     True                           Менеджер по продажам   \n",
              "\n",
              "  department  has_test  response_letter_required response_url  \\\n",
              "0       None     False                      True         None   \n",
              "1       None     False                     False         None   \n",
              "2       None     False                     False         None   \n",
              "3       None     False                     False         None   \n",
              "4       None     False                     False         None   \n",
              "\n",
              "  sort_point_distance              published_at                created_at  \\\n",
              "0                None  2023-03-02T22:51:53+0300  2023-03-02T22:51:53+0300   \n",
              "1                None  2023-03-03T10:00:29+0300  2023-03-03T10:00:29+0300   \n",
              "2                None  2023-02-28T15:25:49+0300  2023-02-28T15:25:49+0300   \n",
              "3                None  2023-03-01T12:10:48+0300  2023-03-01T12:10:48+0300   \n",
              "4                None  2023-03-02T17:28:06+0300  2023-03-02T17:28:06+0300   \n",
              "\n",
              "   ...  schedule.id     schedule.name address address.metro  \\\n",
              "0  ...      fullDay       Полный день     NaN           NaN   \n",
              "1  ...       remote  Удаленная работа     NaN           NaN   \n",
              "2  ...      fullDay       Полный день     NaN           NaN   \n",
              "3  ...      fullDay       Полный день     NaN           NaN   \n",
              "4  ...      fullDay       Полный день     NaN           NaN   \n",
              "\n",
              "  employer.logo_urls salary department.id department.name  \\\n",
              "0                NaN    NaN           NaN             NaN   \n",
              "1                NaN    NaN           NaN             NaN   \n",
              "2                NaN    NaN           NaN             NaN   \n",
              "3                NaN    NaN           NaN             NaN   \n",
              "4                NaN    NaN           NaN             NaN   \n",
              "\n",
              "  insider_interview.id insider_interview.url  \n",
              "0                  NaN                   NaN  \n",
              "1                  NaN                   NaN  \n",
              "2                  NaN                   NaN  \n",
              "3                  NaN                   NaN  \n",
              "4                  NaN                   NaN  \n",
              "\n",
              "[5 rows x 69 columns]"
            ],
            "text/html": [
              "\n",
              "  <div id=\"df-6c81d437-c3cf-418c-89d5-c60acc7c394c\">\n",
              "    <div class=\"colab-df-container\">\n",
              "      <div>\n",
              "<style scoped>\n",
              "    .dataframe tbody tr th:only-of-type {\n",
              "        vertical-align: middle;\n",
              "    }\n",
              "\n",
              "    .dataframe tbody tr th {\n",
              "        vertical-align: top;\n",
              "    }\n",
              "\n",
              "    .dataframe thead th {\n",
              "        text-align: right;\n",
              "    }\n",
              "</style>\n",
              "<table border=\"1\" class=\"dataframe\">\n",
              "  <thead>\n",
              "    <tr style=\"text-align: right;\">\n",
              "      <th></th>\n",
              "      <th>id</th>\n",
              "      <th>premium</th>\n",
              "      <th>name</th>\n",
              "      <th>department</th>\n",
              "      <th>has_test</th>\n",
              "      <th>response_letter_required</th>\n",
              "      <th>response_url</th>\n",
              "      <th>sort_point_distance</th>\n",
              "      <th>published_at</th>\n",
              "      <th>created_at</th>\n",
              "      <th>...</th>\n",
              "      <th>schedule.id</th>\n",
              "      <th>schedule.name</th>\n",
              "      <th>address</th>\n",
              "      <th>address.metro</th>\n",
              "      <th>employer.logo_urls</th>\n",
              "      <th>salary</th>\n",
              "      <th>department.id</th>\n",
              "      <th>department.name</th>\n",
              "      <th>insider_interview.id</th>\n",
              "      <th>insider_interview.url</th>\n",
              "    </tr>\n",
              "  </thead>\n",
              "  <tbody>\n",
              "    <tr>\n",
              "      <th>0</th>\n",
              "      <td>72786164</td>\n",
              "      <td>True</td>\n",
              "      <td>Менеджер по продажам / Sales manager (в офис)</td>\n",
              "      <td>None</td>\n",
              "      <td>False</td>\n",
              "      <td>True</td>\n",
              "      <td>None</td>\n",
              "      <td>None</td>\n",
              "      <td>2023-03-02T22:51:53+0300</td>\n",
              "      <td>2023-03-02T22:51:53+0300</td>\n",
              "      <td>...</td>\n",
              "      <td>fullDay</td>\n",
              "      <td>Полный день</td>\n",
              "      <td>NaN</td>\n",
              "      <td>NaN</td>\n",
              "      <td>NaN</td>\n",
              "      <td>NaN</td>\n",
              "      <td>NaN</td>\n",
              "      <td>NaN</td>\n",
              "      <td>NaN</td>\n",
              "      <td>NaN</td>\n",
              "    </tr>\n",
              "    <tr>\n",
              "      <th>1</th>\n",
              "      <td>77005817</td>\n",
              "      <td>True</td>\n",
              "      <td>Менеджер по продажам (без поиска / удаленно)</td>\n",
              "      <td>None</td>\n",
              "      <td>False</td>\n",
              "      <td>False</td>\n",
              "      <td>None</td>\n",
              "      <td>None</td>\n",
              "      <td>2023-03-03T10:00:29+0300</td>\n",
              "      <td>2023-03-03T10:00:29+0300</td>\n",
              "      <td>...</td>\n",
              "      <td>remote</td>\n",
              "      <td>Удаленная работа</td>\n",
              "      <td>NaN</td>\n",
              "      <td>NaN</td>\n",
              "      <td>NaN</td>\n",
              "      <td>NaN</td>\n",
              "      <td>NaN</td>\n",
              "      <td>NaN</td>\n",
              "      <td>NaN</td>\n",
              "      <td>NaN</td>\n",
              "    </tr>\n",
              "    <tr>\n",
              "      <th>2</th>\n",
              "      <td>77491403</td>\n",
              "      <td>True</td>\n",
              "      <td>Менеджер по продажам (без поиска клиентов)</td>\n",
              "      <td>None</td>\n",
              "      <td>False</td>\n",
              "      <td>False</td>\n",
              "      <td>None</td>\n",
              "      <td>None</td>\n",
              "      <td>2023-02-28T15:25:49+0300</td>\n",
              "      <td>2023-02-28T15:25:49+0300</td>\n",
              "      <td>...</td>\n",
              "      <td>fullDay</td>\n",
              "      <td>Полный день</td>\n",
              "      <td>NaN</td>\n",
              "      <td>NaN</td>\n",
              "      <td>NaN</td>\n",
              "      <td>NaN</td>\n",
              "      <td>NaN</td>\n",
              "      <td>NaN</td>\n",
              "      <td>NaN</td>\n",
              "      <td>NaN</td>\n",
              "    </tr>\n",
              "    <tr>\n",
              "      <th>3</th>\n",
              "      <td>77125671</td>\n",
              "      <td>False</td>\n",
              "      <td>Менеджер по продажам и работе с клиентами</td>\n",
              "      <td>None</td>\n",
              "      <td>False</td>\n",
              "      <td>False</td>\n",
              "      <td>None</td>\n",
              "      <td>None</td>\n",
              "      <td>2023-03-01T12:10:48+0300</td>\n",
              "      <td>2023-03-01T12:10:48+0300</td>\n",
              "      <td>...</td>\n",
              "      <td>fullDay</td>\n",
              "      <td>Полный день</td>\n",
              "      <td>NaN</td>\n",
              "      <td>NaN</td>\n",
              "      <td>NaN</td>\n",
              "      <td>NaN</td>\n",
              "      <td>NaN</td>\n",
              "      <td>NaN</td>\n",
              "      <td>NaN</td>\n",
              "      <td>NaN</td>\n",
              "    </tr>\n",
              "    <tr>\n",
              "      <th>4</th>\n",
              "      <td>76141770</td>\n",
              "      <td>True</td>\n",
              "      <td>Менеджер по продажам</td>\n",
              "      <td>None</td>\n",
              "      <td>False</td>\n",
              "      <td>False</td>\n",
              "      <td>None</td>\n",
              "      <td>None</td>\n",
              "      <td>2023-03-02T17:28:06+0300</td>\n",
              "      <td>2023-03-02T17:28:06+0300</td>\n",
              "      <td>...</td>\n",
              "      <td>fullDay</td>\n",
              "      <td>Полный день</td>\n",
              "      <td>NaN</td>\n",
              "      <td>NaN</td>\n",
              "      <td>NaN</td>\n",
              "      <td>NaN</td>\n",
              "      <td>NaN</td>\n",
              "      <td>NaN</td>\n",
              "      <td>NaN</td>\n",
              "      <td>NaN</td>\n",
              "    </tr>\n",
              "  </tbody>\n",
              "</table>\n",
              "<p>5 rows × 69 columns</p>\n",
              "</div>\n",
              "      <button class=\"colab-df-convert\" onclick=\"convertToInteractive('df-6c81d437-c3cf-418c-89d5-c60acc7c394c')\"\n",
              "              title=\"Convert this dataframe to an interactive table.\"\n",
              "              style=\"display:none;\">\n",
              "        \n",
              "  <svg xmlns=\"http://www.w3.org/2000/svg\" height=\"24px\"viewBox=\"0 0 24 24\"\n",
              "       width=\"24px\">\n",
              "    <path d=\"M0 0h24v24H0V0z\" fill=\"none\"/>\n",
              "    <path d=\"M18.56 5.44l.94 2.06.94-2.06 2.06-.94-2.06-.94-.94-2.06-.94 2.06-2.06.94zm-11 1L8.5 8.5l.94-2.06 2.06-.94-2.06-.94L8.5 2.5l-.94 2.06-2.06.94zm10 10l.94 2.06.94-2.06 2.06-.94-2.06-.94-.94-2.06-.94 2.06-2.06.94z\"/><path d=\"M17.41 7.96l-1.37-1.37c-.4-.4-.92-.59-1.43-.59-.52 0-1.04.2-1.43.59L10.3 9.45l-7.72 7.72c-.78.78-.78 2.05 0 2.83L4 21.41c.39.39.9.59 1.41.59.51 0 1.02-.2 1.41-.59l7.78-7.78 2.81-2.81c.8-.78.8-2.07 0-2.86zM5.41 20L4 18.59l7.72-7.72 1.47 1.35L5.41 20z\"/>\n",
              "  </svg>\n",
              "      </button>\n",
              "      \n",
              "  <style>\n",
              "    .colab-df-container {\n",
              "      display:flex;\n",
              "      flex-wrap:wrap;\n",
              "      gap: 12px;\n",
              "    }\n",
              "\n",
              "    .colab-df-convert {\n",
              "      background-color: #E8F0FE;\n",
              "      border: none;\n",
              "      border-radius: 50%;\n",
              "      cursor: pointer;\n",
              "      display: none;\n",
              "      fill: #1967D2;\n",
              "      height: 32px;\n",
              "      padding: 0 0 0 0;\n",
              "      width: 32px;\n",
              "    }\n",
              "\n",
              "    .colab-df-convert:hover {\n",
              "      background-color: #E2EBFA;\n",
              "      box-shadow: 0px 1px 2px rgba(60, 64, 67, 0.3), 0px 1px 3px 1px rgba(60, 64, 67, 0.15);\n",
              "      fill: #174EA6;\n",
              "    }\n",
              "\n",
              "    [theme=dark] .colab-df-convert {\n",
              "      background-color: #3B4455;\n",
              "      fill: #D2E3FC;\n",
              "    }\n",
              "\n",
              "    [theme=dark] .colab-df-convert:hover {\n",
              "      background-color: #434B5C;\n",
              "      box-shadow: 0px 1px 3px 1px rgba(0, 0, 0, 0.15);\n",
              "      filter: drop-shadow(0px 1px 2px rgba(0, 0, 0, 0.3));\n",
              "      fill: #FFFFFF;\n",
              "    }\n",
              "  </style>\n",
              "\n",
              "      <script>\n",
              "        const buttonEl =\n",
              "          document.querySelector('#df-6c81d437-c3cf-418c-89d5-c60acc7c394c button.colab-df-convert');\n",
              "        buttonEl.style.display =\n",
              "          google.colab.kernel.accessAllowed ? 'block' : 'none';\n",
              "\n",
              "        async function convertToInteractive(key) {\n",
              "          const element = document.querySelector('#df-6c81d437-c3cf-418c-89d5-c60acc7c394c');\n",
              "          const dataTable =\n",
              "            await google.colab.kernel.invokeFunction('convertToInteractive',\n",
              "                                                     [key], {});\n",
              "          if (!dataTable) return;\n",
              "\n",
              "          const docLinkHtml = 'Like what you see? Visit the ' +\n",
              "            '<a target=\"_blank\" href=https://colab.research.google.com/notebooks/data_table.ipynb>data table notebook</a>'\n",
              "            + ' to learn more about interactive tables.';\n",
              "          element.innerHTML = '';\n",
              "          dataTable['output_type'] = 'display_data';\n",
              "          await google.colab.output.renderOutput(dataTable, element);\n",
              "          const docLink = document.createElement('div');\n",
              "          docLink.innerHTML = docLinkHtml;\n",
              "          element.appendChild(docLink);\n",
              "        }\n",
              "      </script>\n",
              "    </div>\n",
              "  </div>\n",
              "  "
            ]
          },
          "metadata": {},
          "execution_count": 40
        }
      ]
    },
    {
      "cell_type": "markdown",
      "source": [
        "Удалю дубликаты"
      ],
      "metadata": {
        "id": "bsjgk7aiQwAU"
      }
    },
    {
      "cell_type": "code",
      "source": [
        "pages_manager_df.reset_index(inplace=True)\n",
        "pages_manager_df.drop_duplicates(subset=['id'], inplace=True)\n",
        "pages_manager_df.drop('index', axis=1, inplace=True)\n",
        "pages_manager_df.info()"
      ],
      "metadata": {
        "colab": {
          "base_uri": "https://localhost:8080/"
        },
        "id": "XWQm1rKMQ7T1",
        "outputId": "5527a482-8d8f-44cd-ff76-9a6307050621"
      },
      "execution_count": 41,
      "outputs": [
        {
          "output_type": "stream",
          "name": "stdout",
          "text": [
            "<class 'pandas.core.frame.DataFrame'>\n",
            "Int64Index: 1999 entries, 0 to 1999\n",
            "Data columns (total 69 columns):\n",
            " #   Column                       Non-Null Count  Dtype  \n",
            "---  ------                       --------------  -----  \n",
            " 0   id                           1999 non-null   object \n",
            " 1   premium                      1999 non-null   bool   \n",
            " 2   name                         1999 non-null   object \n",
            " 3   department                   0 non-null      object \n",
            " 4   has_test                     1999 non-null   bool   \n",
            " 5   response_letter_required     1999 non-null   bool   \n",
            " 6   response_url                 0 non-null      object \n",
            " 7   sort_point_distance          0 non-null      object \n",
            " 8   published_at                 1999 non-null   object \n",
            " 9   created_at                   1999 non-null   object \n",
            " 10  archived                     1999 non-null   bool   \n",
            " 11  apply_alternate_url          1999 non-null   object \n",
            " 12  insider_interview            0 non-null      object \n",
            " 13  url                          1999 non-null   object \n",
            " 14  adv_response_url             0 non-null      object \n",
            " 15  alternate_url                1999 non-null   object \n",
            " 16  relations                    1999 non-null   object \n",
            " 17  contacts                     0 non-null      object \n",
            " 18  working_days                 1999 non-null   object \n",
            " 19  working_time_intervals       1999 non-null   object \n",
            " 20  working_time_modes           1999 non-null   object \n",
            " 21  accept_temporary             1999 non-null   bool   \n",
            " 22  professional_roles           1999 non-null   object \n",
            " 23  accept_incomplete_resumes    1999 non-null   bool   \n",
            " 24  area.id                      1999 non-null   object \n",
            " 25  area.name                    1999 non-null   object \n",
            " 26  area.url                     1999 non-null   object \n",
            " 27  salary.from                  1823 non-null   float64\n",
            " 28  salary.to                    1153 non-null   float64\n",
            " 29  salary.currency              1903 non-null   object \n",
            " 30  salary.gross                 1903 non-null   object \n",
            " 31  type.id                      1999 non-null   object \n",
            " 32  type.name                    1999 non-null   object \n",
            " 33  address.city                 1327 non-null   object \n",
            " 34  address.street               1304 non-null   object \n",
            " 35  address.building             1256 non-null   object \n",
            " 36  address.lat                  1327 non-null   float64\n",
            " 37  address.lng                  1327 non-null   float64\n",
            " 38  address.description          0 non-null      float64\n",
            " 39  address.raw                  1333 non-null   object \n",
            " 40  address.metro.station_name   923 non-null    object \n",
            " 41  address.metro.line_name      923 non-null    object \n",
            " 42  address.metro.station_id     923 non-null    object \n",
            " 43  address.metro.line_id        923 non-null    object \n",
            " 44  address.metro.lat            923 non-null    float64\n",
            " 45  address.metro.lng            923 non-null    float64\n",
            " 46  address.metro_stations       1435 non-null   object \n",
            " 47  address.id                   1435 non-null   object \n",
            " 48  employer.id                  1998 non-null   object \n",
            " 49  employer.name                1999 non-null   object \n",
            " 50  employer.url                 1998 non-null   object \n",
            " 51  employer.alternate_url       1998 non-null   object \n",
            " 52  employer.logo_urls.240       1744 non-null   object \n",
            " 53  employer.logo_urls.90        1744 non-null   object \n",
            " 54  employer.logo_urls.original  1744 non-null   object \n",
            " 55  employer.vacancies_url       1998 non-null   object \n",
            " 56  employer.trusted             1999 non-null   bool   \n",
            " 57  snippet.requirement          1941 non-null   object \n",
            " 58  snippet.responsibility       1976 non-null   object \n",
            " 59  schedule.id                  1999 non-null   object \n",
            " 60  schedule.name                1999 non-null   object \n",
            " 61  address                      0 non-null      float64\n",
            " 62  address.metro                0 non-null      float64\n",
            " 63  employer.logo_urls           0 non-null      float64\n",
            " 64  salary                       0 non-null      float64\n",
            " 65  department.id                8 non-null      object \n",
            " 66  department.name              8 non-null      object \n",
            " 67  insider_interview.id         1 non-null      object \n",
            " 68  insider_interview.url        1 non-null      object \n",
            "dtypes: bool(7), float64(11), object(51)\n",
            "memory usage: 997.5+ KB\n"
          ]
        }
      ]
    },
    {
      "cell_type": "markdown",
      "source": [
        "Сформирую более удобную таблицу для дальнейших действий"
      ],
      "metadata": {
        "id": "E7msADBqRXe4"
      }
    },
    {
      "cell_type": "code",
      "source": [
        "vacancies_info_manager= []\n",
        "key_skills_manager = []\n",
        "employer_name_manager = []\n",
        "experience_manager = []\n",
        "coordinate_lat_manager = []\n",
        "coordinate_lng_manager = []\n",
        "\n",
        "for s in range(0, pages_manager_df.shape[0]):\n",
        "    vacancy = pages_manager_df['id'].iloc[s]\n",
        "    req = requests.get(f'https://api.hh.ru/vacancies/{vacancy}')\n",
        "    info = json.loads(req.content.decode())\n",
        "\n",
        "    if 'errors' in info:\n",
        "      print('тебя приняли за DDOS атакующего :(( ')\n",
        "      break\n",
        "\n",
        "    # добавляем описание вакансии\n",
        "    vacancies_info_manager.append(info['description'])\n",
        "\n",
        "    # добавляем ключевые навыки \n",
        "    key_skills_manager.append([skill['name'] for skill in info['key_skills']])\n",
        "\n",
        "    # обрабатываем работодателя текущей вакансии\n",
        "    if info['employer'] is not None and 'name' in info['employer']:\n",
        "        employer_name_manager.append(info['employer']['name'])\n",
        "    else:\n",
        "        employer_name_manager.append(None)\n",
        "\n",
        "    # обрабатываем требуемый опыт работы\n",
        "    if info['experience'] is not None and 'id' in info['experience']:\n",
        "        experience_manager.append(info['experience']['id'])\n",
        "    else:\n",
        "        experience_manager.append(None)\n",
        "\n",
        "    # обрабатываем координаты рабочего места\n",
        "    if info['address'] is not None and 'lat' in info['address']:\n",
        "        coordinate_lat_manager.append(info['address']['lat'])\n",
        "    else:\n",
        "        coordinate_lat_manager.append(None)\n",
        "\n",
        "    if info['address'] is not None and 'lng' in info['address']:\n",
        "        coordinate_lng_manager.append(info['address']['lng'])\n",
        "    else:\n",
        "        coordinate_lng_manager.append(None)\n",
        "\n",
        "    sleep(0.5)\n"
      ],
      "metadata": {
        "id": "gScG-20aRb4r"
      },
      "execution_count": 42,
      "outputs": []
    },
    {
      "cell_type": "markdown",
      "source": [
        "Выбираю из DataFrame интересующие меня поля"
      ],
      "metadata": {
        "id": "MqqsSucrokT0"
      }
    },
    {
      "cell_type": "code",
      "source": [
        "target_fields = ['id', 'name', 'has_test', 'response_letter_required', 'working_days', 'accept_temporary','professional_roles', 'salary.from', 'salary.to', 'salary.currency', 'salary.gross']\n",
        "pages_manager_df_new = pages_manager_df.loc[:, target_fields]"
      ],
      "metadata": {
        "id": "eNc0HKzEjtEA"
      },
      "execution_count": 43,
      "outputs": []
    },
    {
      "cell_type": "code",
      "source": [
        "pages_manager_df_new['vacancy_info'] = vacancies_info_manager\n",
        "pages_manager_df_new['key_skills'] = key_skills_manager\n",
        "pages_manager_df_new['experience'] = experience_manager\n",
        "pages_manager_df_new['employer_name'] = employer_name_manager\n"
      ],
      "metadata": {
        "id": "fXcJCSKSkDlM"
      },
      "execution_count": 44,
      "outputs": []
    },
    {
      "cell_type": "code",
      "source": [
        "pages_manager_df_new.to_excel('manager_vacancies_info.xlsx')"
      ],
      "metadata": {
        "id": "w9Aw_aLjkHR6"
      },
      "execution_count": 45,
      "outputs": []
    },
    {
      "cell_type": "markdown",
      "source": [
        "**Вопрос 1.** Сколько сейчас доступно вакансий по вашему запросу?"
      ],
      "metadata": {
        "id": "Bp65wWuEo0lT"
      }
    },
    {
      "cell_type": "code",
      "source": [
        "data_manager['found']"
      ],
      "metadata": {
        "colab": {
          "base_uri": "https://localhost:8080/"
        },
        "id": "epBPZ8Yno1iU",
        "outputId": "a9eda8ed-54fa-401c-d95d-11d1959d8e45"
      },
      "execution_count": 46,
      "outputs": [
        {
          "output_type": "execute_result",
          "data": {
            "text/plain": [
              "15839"
            ]
          },
          "metadata": {},
          "execution_count": 46
        }
      ]
    },
    {
      "cell_type": "markdown",
      "source": [
        "**Вопрос 2.** Какие навыки чаще всего встречаются в вакансиях по данной специальности?"
      ],
      "metadata": {
        "id": "hcfbAHzYpBLS"
      }
    },
    {
      "cell_type": "code",
      "source": [
        "popular_skills_manager = {}\n",
        "for i in range(len(key_skills_manager)):\n",
        "  skills_list = [j.lower() for j in key_skills_manager[i][:]]\n",
        "  for skill in skills_list:\n",
        "    if skill in popular_skills_manager:\n",
        "      popular_skills_manager[skill] += 1\n",
        "    else:\n",
        "      popular_skills_manager[skill] = 1"
      ],
      "metadata": {
        "id": "789Rr7r3pCBH"
      },
      "execution_count": 47,
      "outputs": []
    },
    {
      "cell_type": "markdown",
      "source": [
        "Отсортирую данные и сформирую DataFrame"
      ],
      "metadata": {
        "id": "6MyDfl8spWD_"
      }
    },
    {
      "cell_type": "code",
      "source": [
        "sorted_skills_tmp = sorted(popular_skills_manager.items(), key=lambda item: item[1], reverse=True)\n",
        "sorted_skills_manager = pd.DataFrame(sorted_skills_tmp, columns=['Навык', 'Количество упоминаний'])"
      ],
      "metadata": {
        "id": "9xWewiOHpeIL"
      },
      "execution_count": 48,
      "outputs": []
    },
    {
      "cell_type": "markdown",
      "source": [
        "Визуализирую найденные данные"
      ],
      "metadata": {
        "id": "CmME6egxpnIp"
      }
    },
    {
      "cell_type": "code",
      "source": [
        "sns.set(rc={'figure.figsize':(100,100)}, font_scale=1)\n",
        "sns.catplot(data=sorted_skills_manager[0:15], x='Количество упоминаний', y='Навык', height=12, kind='bar', palette=\"muted\", edgecolor=\".6\")\n",
        "plt.title('Топ-15 необходимых навыков для менежера по продажам', fontsize=15)"
      ],
      "metadata": {
        "colab": {
          "base_uri": "https://localhost:8080/",
          "height": 906
        },
        "id": "__3AiKPVpp0K",
        "outputId": "f0f927d6-0632-4f95-e8d2-c147272794c9"
      },
      "execution_count": 51,
      "outputs": [
        {
          "output_type": "execute_result",
          "data": {
            "text/plain": [
              "Text(0.5, 1.0, 'Топ-15 необходимых навыков для менежера по продажам')"
            ]
          },
          "metadata": {},
          "execution_count": 51
        },
        {
          "output_type": "display_data",
          "data": {
            "text/plain": [
              "<Figure size 864x864 with 1 Axes>"
            ],
            "image/png": "[encoded data removed]"
          },
          "metadata": {}
        }
      ]
    },
    {
      "cell_type": "markdown",
      "source": [
        "Навыки вроде \"ведение переговоров\", \"грамотная речь\" и \"деловое общение\" представляют синонимиченые требования, поэтому для полноты картины я объединю эти признаки."
      ],
      "metadata": {
        "id": "IUwzIQMmD7gr"
      }
    },
    {
      "cell_type": "code",
      "source": [
        "popular_skills_manager_tmp = popular_skills_manager.copy()\n",
        "popular_skills_manager_tmp['ведение переговоров'] += popular_skills_manager_tmp['грамотная речь'] + popular_skills_manager_tmp['деловое общение']\n",
        "popular_skills_manager_tmp.pop('грамотная речь')\n",
        "popular_skills_manager_tmp.pop('деловое общение')\n",
        "sorted_skills_tmp = sorted(popular_skills_manager_tmp.items(), key=lambda item: item[1], reverse=True)\n",
        "sorted_skills_manager = pd.DataFrame(sorted_skills_tmp, columns=['Навык', 'Количество упоминаний'])"
      ],
      "metadata": {
        "id": "uV-QWyaBEfYe"
      },
      "execution_count": 55,
      "outputs": []
    },
    {
      "cell_type": "code",
      "source": [
        "sns.set(rc={'figure.figsize':(100,100)}, font_scale=1)\n",
        "sns.catplot(data=sorted_skills_manager[0:15], x='Количество упоминаний', y='Навык', height=12, kind='bar', palette=\"muted\", edgecolor=\".6\")\n",
        "plt.title('Топ-15 необходимых навыков для менежера по продажам', fontsize=15)"
      ],
      "metadata": {
        "colab": {
          "base_uri": "https://localhost:8080/",
          "height": 906
        },
        "id": "ZKkpj9NmFCZ8",
        "outputId": "b0473843-07e4-4320-a2c3-325ec8aef38f"
      },
      "execution_count": 56,
      "outputs": [
        {
          "output_type": "execute_result",
          "data": {
            "text/plain": [
              "Text(0.5, 1.0, 'Топ-15 необходимых навыков для менежера по продажам')"
            ]
          },
          "metadata": {},
          "execution_count": 56
        },
        {
          "output_type": "display_data",
          "data": {
            "text/plain": [
              "<Figure size 864x864 with 1 Axes>"
            ],
            "image/png": "[encoded data removed]"
          },
          "metadata": {}
        }
      ]
    },
    {
      "cell_type": "markdown",
      "source": [
        "После объединения схожих навыков, количество требований \"ведение переговоров\" увеличилось почти в 2 раза, также появились 3 новых навыка: \"заключение договора\", \"деловая переписка\" и \"развитие продаж\"."
      ],
      "metadata": {
        "id": "sBOeCfKmFhL0"
      }
    },
    {
      "cell_type": "markdown",
      "source": [
        "**Вопрос 3.** Какую зарплату готовы платить работодатели? Соберите некоторым образом статистику и постройте гистограмму."
      ],
      "metadata": {
        "id": "GiF5bLbTqDoz"
      }
    },
    {
      "cell_type": "markdown",
      "source": [
        "Выделю DataFrame, содержащий лишь инфомацию о зарплате"
      ],
      "metadata": {
        "id": "WdAkVyv1qEj3"
      }
    },
    {
      "cell_type": "code",
      "source": [
        "salary_target_fields = ['salary.from', 'salary.to', 'salary.currency', 'salary.gross']\n",
        "salary_info_manager = pages_manager_df_new.loc[:, salary_target_fields]\n",
        "# Уберем пропуски в данных\n",
        "salary_info_manager.dropna(inplace=True)"
      ],
      "metadata": {
        "id": "_nfj-ydSqM9O"
      },
      "execution_count": 57,
      "outputs": []
    },
    {
      "cell_type": "markdown",
      "source": [
        "Визуализация обработанных данных:"
      ],
      "metadata": {
        "id": "SUXbZ1DZqmda"
      }
    },
    {
      "cell_type": "code",
      "source": [
        "salary_in_rubles = salary_info_manager[salary_info_manager['salary.currency'] == 'RUR']\n",
        "plt.figure(figsize=(16, 8))\n",
        "sns.set(style=\"darkgrid\")\n",
        "sns.histplot(data=salary_in_rubles, x=(salary_in_rubles['salary.from'] + salary_in_rubles['salary.to']) / 2, bins=50, color='#0504aa')\n",
        "plt.xlim((0, 600000))\n",
        "plt.title('Распределения заработка менеджера по продажам в рублях', fontsize=15)\n",
        "plt.xlabel('Середина зарплатной вилки', fontsize=15)\n",
        "plt.ylabel('Число вакансий', fontsize=15)"
      ],
      "metadata": {
        "colab": {
          "base_uri": "https://localhost:8080/",
          "height": 541
        },
        "id": "53A4FQdLqpm6",
        "outputId": "c57c6265-2d0f-45b3-82e0-f9721012b226"
      },
      "execution_count": 63,
      "outputs": [
        {
          "output_type": "execute_result",
          "data": {
            "text/plain": [
              "Text(0, 0.5, 'Число вакансий')"
            ]
          },
          "metadata": {},
          "execution_count": 63
        },
        {
          "output_type": "display_data",
          "data": {
            "text/plain": [
              "<Figure size 1152x576 with 1 Axes>"
            ],
            "image/png": "[encoded data removed]"
          },
          "metadata": {}
        }
      ]
    },
    {
      "cell_type": "markdown",
      "source": [
        "Теперь проанализирую предлагаемые доходы менеджера в иностранной валюте."
      ],
      "metadata": {
        "id": "8RPTIvI64PvK"
      }
    },
    {
      "cell_type": "code",
      "source": [
        "salary_in_for_curr = salary_info_manager[(salary_info_manager['salary.currency'] == 'USD') | (salary_info_manager['salary.currency'] == 'EUR')]\n",
        "coef_usd_to_eur = 1.06\n",
        "salary_in_for_curr.loc[salary_in_for_curr['salary.currency'] == 'EUR', ['salary.from', 'salary.to']] *= coef_usd_to_eur\n",
        "plt.figure(figsize=(16, 8))\n",
        "sns.set(style=\"darkgrid\")\n",
        "sns.histplot(data=salary_in_for_curr, x=(salary_in_for_curr['salary.from'] + salary_in_for_curr['salary.to']) / 2, bins=50, color='#05aaaa')\n",
        "plt.title('Распределения заработка в долларах или евро', fontsize=15)\n",
        "plt.xlabel('Середина зарплатной вилки', fontsize=15)\n",
        "plt.ylabel('Число вакансий', fontsize=15)"
      ],
      "metadata": {
        "colab": {
          "base_uri": "https://localhost:8080/",
          "height": 652
        },
        "id": "wfu3eKpH4bHK",
        "outputId": "d0ae8a88-9e0a-49ce-c7fd-8f507589f5fd"
      },
      "execution_count": 66,
      "outputs": [
        {
          "output_type": "stream",
          "name": "stderr",
          "text": [
            "/usr/local/lib/python3.8/dist-packages/pandas/core/indexing.py:1884: SettingWithCopyWarning: \n",
            "A value is trying to be set on a copy of a slice from a DataFrame.\n",
            "Try using .loc[row_indexer,col_indexer] = value instead\n",
            "\n",
            "See the caveats in the documentation: https://pandas.pydata.org/pandas-docs/stable/user_guide/indexing.html#returning-a-view-versus-a-copy\n",
            "  self._setitem_single_column(loc, val, pi)\n"
          ]
        },
        {
          "output_type": "execute_result",
          "data": {
            "text/plain": [
              "Text(0, 0.5, 'Число вакансий')"
            ]
          },
          "metadata": {},
          "execution_count": 66
        },
        {
          "output_type": "display_data",
          "data": {
            "text/plain": [
              "<Figure size 1152x576 with 1 Axes>"
            ],
            "image/png": "[encoded data removed]"
          },
          "metadata": {}
        }
      ]
    },
    {
      "cell_type": "markdown",
      "source": [
        "**Выводы:**\n",
        "\n",
        "\n",
        "1.   Наиболее популярными требуемыми навыками для профессии менеджер по продажам являются умение вести переговоры (как лично, так и по телефону), а также умение осуществлять различного рода продажи (b2b, прямые, холодные)\n",
        "2.   В отличие от профессии Data Scientist, где для каждого уровня квалификации специалиста есть более 10 предложений, для профессии Менеджер по продажам большинство предложений ориентировано на зарплатную вилку от 200к до 400к. Также есть очень небольшое количество вакансий с предложениями более 1 млн.\n",
        "3.   Количество предложений о зарплате в иностранной валюте гораздо меньше количества предложений о зарплате в рублях. Должно быть, это связано с тем, что компании, нанаимающее менеджеров, ориентированы на работу внутри страны, а предложений от иностранных компаний не так уж и много.\n",
        "\n"
      ],
      "metadata": {
        "id": "3LP_DwXXHUgs"
      }
    },
    {
      "cell_type": "markdown",
      "metadata": {
        "id": "XW8GoPJGg_YD"
      },
      "source": [
        "\n",
        "---\n",
        "### <font color=\"orange\"><i>Сложная часть</i></font>\n",
        "\n",
        "### Задача 2.   \n",
        "\n",
        "Для *одной* из рассмотренных ранее профессий ответьте на следующие вопросы:  \n",
        "- Какой опыт требуется для данной вакансии?\n",
        "- Какие работодатели в топе? \n",
        "- В каком районе Москвы данная вакансия пользуется наибольшим и наименьшим спросом?\n",
        "\n",
        "Не забудьте про визуализацию, в частности, постройте распределений вакансий на карте.\n",
        "\n",
        "*Напоминание.* Работа в некоторой степени творческая, поэтому конкретные детали решения в основном остаются на усмотрение автора решения.\n"
      ]
    },
    {
      "cell_type": "markdown",
      "source": [
        "Исследуемая вакансия - Менеджер по продажам\n",
        "\n",
        "Проанализирую требуемый опыт:"
      ],
      "metadata": {
        "id": "Y6PGrtny5M54"
      }
    },
    {
      "cell_type": "code",
      "source": [
        "plt.figure(figsize=(16, 10))\n",
        "fig = sns.countplot(x=experience_manager, color='sandybrown', alpha=0.8)\n",
        "fig.set_xticklabels(('От 1 до 3 лет', 'От 3 до 6 лет', 'Без опыта', 'Более 6 лет'))\n",
        "plt.xlabel('Опыт работы', fontsize=20)\n",
        "plt.ylabel('Число вакансий', fontsize=20)\n",
        "plt.title('Требуемый опыт работы для Менеджера по продажам', fontsize=20)"
      ],
      "metadata": {
        "colab": {
          "base_uri": "https://localhost:8080/",
          "height": 657
        },
        "id": "-5f72NoZ5W-r",
        "outputId": "ea1f11a8-5f42-427f-b7da-714c5fe82a9f"
      },
      "execution_count": 75,
      "outputs": [
        {
          "output_type": "execute_result",
          "data": {
            "text/plain": [
              "Text(0.5, 1.0, 'Требуемый опыт работы для Менеджера по продажам')"
            ]
          },
          "metadata": {},
          "execution_count": 75
        },
        {
          "output_type": "display_data",
          "data": {
            "text/plain": [
              "<Figure size 1152x720 with 1 Axes>"
            ],
            "image/png": "[encoded data removed]"
          },
          "metadata": {}
        }
      ]
    },
    {
      "cell_type": "markdown",
      "source": [
        "Проанализирую топ работодателей:"
      ],
      "metadata": {
        "id": "MyV4bRNs5nsU"
      }
    },
    {
      "cell_type": "code",
      "source": [
        "companies = {}\n",
        "for name in employer_name_manager:\n",
        "    if name in companies:\n",
        "        companies[name] += 1\n",
        "    else:\n",
        "        companies[name] = 1\n",
        "\n",
        "sorted_companies_tmp = sorted(companies.items(), key=lambda item: item[1], reverse=True)\n",
        "sorted_companies = pd.DataFrame(sorted_companies_tmp, columns=['Работодатель', 'Количество вакансий'])"
      ],
      "metadata": {
        "id": "S8kYESOx5rZE"
      },
      "execution_count": 78,
      "outputs": []
    },
    {
      "cell_type": "code",
      "source": [
        "plt.figure(figsize=(16, 10))\n",
        "sns.barplot(data=sorted_companies[0:15], x='Количество вакансий', y='Работодатель', color='palegreen')\n",
        "plt.title('Топ-15 компаний по количеству найма', fontsize=20)\n",
        "plt.xlabel('Количество вакансий', fontsize=20)\n",
        "plt.ylabel('Работодатель', fontsize=20)"
      ],
      "metadata": {
        "colab": {
          "base_uri": "https://localhost:8080/",
          "height": 656
        },
        "id": "lGsQIfLQ5zst",
        "outputId": "80c681e3-7083-449e-ee97-6cd4df9eba9d"
      },
      "execution_count": 93,
      "outputs": [
        {
          "output_type": "execute_result",
          "data": {
            "text/plain": [
              "Text(0, 0.5, 'Работодатель')"
            ]
          },
          "metadata": {},
          "execution_count": 93
        },
        {
          "output_type": "display_data",
          "data": {
            "text/plain": [
              "<Figure size 1152x720 with 1 Axes>"
            ],
            "image/png": "[encoded data removed]"
          },
          "metadata": {}
        }
      ]
    },
    {
      "cell_type": "markdown",
      "source": [
        "Исследую распределение количества вакансий по районам Москвы"
      ],
      "metadata": {
        "id": "3CEUqV5QNpt7"
      }
    },
    {
      "cell_type": "code",
      "source": [
        "import plotly.express as plotly_expr\n",
        "fig = plotly_expr.scatter_mapbox(lat=pages_manager_df['address.lat'], lon=pages_manager_df['address.lng'], zoom=10, width=1000, height=1000, center={'lat' : 55.751244, 'lon' : 37.618423}, color_discrete_sequence=[\"fuchsia\"])\n",
        "fig.update_layout(mapbox_style=\"open-street-map\")\n",
        "fig.update_layout(margin={\"r\":0,\"t\":0,\"l\":0,\"b\":0})\n",
        "fig.show()"
      ],
      "metadata": {
        "colab": {
          "base_uri": "https://localhost:8080/",
          "height": 1000
        },
        "id": "IJetgwcnNxcX",
        "outputId": "1c4a244b-3d63-4c20-9d5d-78394a1e2b32"
      },
      "execution_count": 106,
      "outputs": [
        {
          "output_type": "display_data",
          "data": {
            "text/html": [
              "<html>\n",
              "<head><meta charset=\"utf-8\" /></head>\n",
              "<body>\n",
              "    <div>            <script src=\"https://cdnjs.cloudflare.com/ajax/libs/mathjax/2.7.5/MathJax.js?config=TeX-AMS-MML_SVG\"></script><script type=\"text/javascript\">if (window.MathJax) {MathJax.Hub.Config({SVG: {font: \"STIX-Web\"}});}</script>                <script type=\"text/javascript\">window.PlotlyConfig = {MathJaxConfig: 'local'};</script>\n",
              "        <script src=\"https://cdn.plot.ly/plotly-2.8.3.min.js\"></script>                <div id=\"dcf86f4f-5c2a-4e09-bea7-aeee47cf86ad\" class=\"plotly-graph-div\" style=\"height:1000px; width:1000px;\"></div>            <script type=\"text/javascript\">                                    window.PLOTLYENV=window.PLOTLYENV || {};                                    if (document.getElementById(\"dcf86f4f-5c2a-4e09-bea7-aeee47cf86ad\")) {                    Plotly.newPlot(                        \"dcf86f4f-5c2a-4e09-bea7-aeee47cf86ad\",                        [{\"hovertemplate\":\"lat=%{lat}<br>lon=%{lon}<extra></extra>\",\"lat\":[55.881778,null,55.819064,null,55.737451,55.65015,null,null,55.725306,55.862343,55.749646,55.749511,55.70391,null,55.73001,55.63574696917354,55.749511,null,55.789704,55.730847,55.70774,55.775707,55.561105,55.709444,55.884444,55.771059,null,55.749451,55.716859,null,null,55.755864,55.695256,null,null,55.778122,55.67889,55.756807,55.781398,55.749633,55.775606,55.821932,55.759912,null,null,55.74744985744137,55.856038,55.775965,null,55.749633,55.754583,55.789325,55.741267,null,null,null,null,null,null,55.749451,55.433619,55.746481,55.749395,null,55.718375,55.68633,55.65015,null,null,null,null,55.792807,55.748037,null,55.737132,55.622629,null,null,55.858468,55.756933,55.657103,null,55.749511,null,55.823039,55.755023,55.746446,55.70285,null,null,55.712472,55.804127,55.686736,55.578905,55.797159,null,null,null,null,55.76093,55.710129,55.789006,null,55.77038,null,null,55.693576,null,55.755348,55.850343,55.749511,55.749633,55.726345,55.785564,null,55.590302,55.755348,55.806555,null,null,55.783261,null,null,null,55.713988,55.692308,null,55.761315,55.80694,55.89405534580951,null,null,null,null,55.826625,55.716022,55.662501,null,55.634151,55.738003,55.900658,null,55.708354,55.802659,55.843636,55.754684,null,null,55.683392,55.708704,55.763873,55.979989,55.745402,55.740157,null,null,55.749162,null,55.676103,55.675966,55.749511,55.85483,55.701029,55.742869,55.664187,55.803889,null,55.750347,null,55.749633,55.74677,55.613443,null,null,55.754755,null,55.68904,55.783261,null,null,null,55.709444,55.84024,null,55.65015,55.875965,55.88198,55.746440241046685,55.752323,55.77317,55.776537,null,55.613265,null,null,null,55.650145,55.73925,null,55.839977,55.805498,55.65015,55.755236,55.780436,55.723328,55.7411,55.693931,55.77317,null,null,55.788905,null,55.705858,55.83566,null,55.70315,55.701861,55.766142,55.765301,55.739564,null,55.778461,55.624988,null,55.703992,55.782491,null,55.755864,55.654142,55.78405,55.810162,55.772431,55.746096,55.657672,55.725143,55.810228,55.806484,55.789628,55.893112,55.64319,null,null,55.80403,null,55.594819,59.941682,55.749243,55.88355,null,55.746335,null,55.634181,55.70387,55.770173,55.788753,null,55.880828,55.829755,55.612828,55.711108,55.807805,55.776806,null,null,55.752592,null,null,55.710129,55.695002,55.623112,null,null,55.829593,55.719384,55.637017,null,55.708029,null,55.739098,55.805432,null,55.735647,null,55.900658,null,null,null,null,55.653929,55.804127,55.715753,55.756614,null,55.86398,55.889921,55.744363,55.790722,55.749162,55.752572,55.277913,55.754684,55.707202,55.777555,55.802659,null,55.757744,55.693267,55.753848,null,55.860873579967915,55.627656,55.830326,55.797787,null,null,null,55.839855,55.858609,55.752718,null,55.707076,55.800473,55.701699,55.70852032905923,null,55.765027,55.733523,55.708876,null,null,null,55.75824,55.721919,55.776851,55.717934,55.740644,55.588893,null,null,null,null,null,55.69209,55.614561,null,55.611648,55.797159,55.788753,null,55.761376,55.670021,null,58.601476,55.771059,null,55.739549,55.875849,55.634181,55.755864,55.874622,55.779499,55.699989,null,null,null,null,55.711848,55.675306,55.850408,null,null,null,55.797113,null,null,55.808295,55.77875,null,55.703987,55.686269,null,55.747622,55.811953,55.779504,null,55.731536,55.710129,null,55.747236,55.759755,null,55.875157,null,55.790545,null,55.659967,55.781747,55.775955,null,55.775758,null,55.749646,55.875092,55.816758,55.696976,55.882601,55.782927,null,55.65753,55.84121,55.698011,55.749511,55.606136,null,55.83657,55.748143,null,55.739514,55.807805,null,null,55.761224,55.749451,null,55.674478,null,55.849893,55.654137,55.856038,55.749162,55.746096,55.887473,null,55.826407,null,55.705072,null,55.776046,null,55.726142,55.634151,55.800448,55.930599,55.765007,55.745073,55.765017,55.758038,null,55.753914,55.758575,55.755018,55.636407,55.751244,55.791486,55.792787,55.735221,59.986934,null,null,55.829593,55.755419,null,55.747586,null,null,55.794067,null,null,55.780259,55.729219,null,null,55.788353,null,55.84024,null,55.600125,null,null,null,55.704813,null,55.814558,55.640111,null,null,null,55.65015,null,55.811432,55.828132,55.753757,null,55.745113,55.797159,55.781398,55.757901,55.853046,55.169144,55.818882,55.639441,55.856038,55.78985027408336,null,55.747622,55.876289,55.732286,null,55.816187,null,55.817122,null,55.775165,55.687152,55.650145,55.631554,55.672016,55.764025,null,55.795646,null,null,55.789294,null,55.843373,55.839881,null,55.835907,55.771955,55.65015,null,null,55.687766,55.77919,55.814715,55.772472,null,null,55.712335,null,55.721123,null,null,55.814593,55.711356,55.682605,55.747368,55.746481,55.641122,55.725143,55.71624,null,55.629318,55.860554,null,55.689035,55.730492,55.829062,55.80685919594582,55.87589,55.790545,null,null,null,55.824754,55.76096926342987,55.774487,55.782643,null,null,null,55.691552,55.703368,null,55.685726,55.797483,null,55.672021,null,55.78566,55.623117,null,55.673763,null,55.844758,null,55.791486,55.751928,55.816596,55.579017,55.656057,55.70285,55.8078,55.8679,null,55.775955,55.703175,55.788905,55.778735,null,null,null,55.655874,55.438598,55.640274,55.818412,null,55.797159,55.631427,55.65015,55.762794,55.701521,null,55.578157,55.754122,55.800853,55.782932,55.780319,null,null,55.806919,null,55.757921,55.759983,null,null,55.661399,55.747708,null,null,55.789294,null,null,55.744277,null,null,55.75131,55.800726,55.734532,55.838819,55.772436,55.774527,55.765848,55.731409,null,55.70773924271116,null,55.753255,55.722603,55.612477,null,55.783453,55.755023,55.747241,55.713988,55.681067,55.746233,null,null,55.891693,55.749451,55.746932,55.762637,null,null,55.734866,null,55.838228,55.736169,null,55.747115,null,null,55.71569659852324,55.687761,55.799932,55.649865,null,55.831064,55.757941,null,null,55.731632,55.818412,55.661862,null,null,null,null,55.693931,55.788353,56.838011,null,55.779499,null,null,55.71019,55.88928,55.680275,55.762004,55.52264318900583,55.81179931955033,55.729858,55.657672,null,null,55.753377,55.804268,55.749633,55.755728,55.786996,null,55.78524,55.624972,55.68904,55.812059,55.713339,null,null,55.80397,55.71124,55.757744,null,55.868425,55.898205,55.857781,null,55.809166,55.810238,null,null,55.71057,55.740046,55.807805,55.804127,55.709738,55.60102,null,55.770451,55.742098,null,null,55.691653,55.831231,55.793414,55.752045,55.663629,null,null,null,55.735221,55.658439,55.708831,55.569729,null,null,null,null,55.792108,null,55.729062,55.798753,55.937987,null,55.789006,null,55.639578,55.802335,null,null,55.789461,null,55.799806,null,55.808548,55.881318,null,null,null,null,55.740867,55.738571,55.710129,55.751432,55.746405,55.639578,55.814553,55.756766,55.676103,null,55.729579,55.758706,55.654477,55.623112,55.745716,55.722015,55.633755,55.74964599961542,null,55.81781,55.71949,null,55.748179,55.790687657162835,55.678397,null,55.805503,null,null,55.746233,null,55.803691,55.780183,55.90201,55.709617,55.772234,55.843555,null,null,null,55.709145907824706,null,null,55.746481,55.713491,55.747115,55.836236,null,55.75414999999999,null,55.643835,55.714713,55.684772,55.749633,55.739255,null,null,null,55.800261,55.807805,55.785954,null,null,55.732088,null,55.71091,55.647209,null,55.749633,null,null,55.849994,55.547474,55.704002,null,55.634181,null,null,55.791972,55.858746,null,55.725143,null,55.700035,55.689035,55.797159,55.760216,55.739123,55.66422445126964,55.876147,55.818412,55.733771,55.675463,null,55.712649,55.748123,55.782623,55.746446,55.711615,55.749557,null,null,null,55.630548,55.698011,55.780745,55.709312,55.720175,55.739645,null,55.843373,null,null,null,55.766131,null,55.772289,55.790965,55.639187,55.749511,55.749395,55.79013,null,55.757683,55.749633,55.785918,55.670503,55.782729,55.710129,null,55.900658,55.749633,55.747089,55.71124,null,55.612868,55.777388,55.866531,null,55.891047,null,null,null,55.761355,55.635086,55.527591,null,55.693668,55.722598,55.721189,55.670133,55.802755,null,55.632789,55.595801,55.648479,55.749633,55.727851,55.782071,55.733766,55.747115,null,55.834052,55.80571,null,null,null,55.808928,null,null,55.717366,null,55.799016,null,null,55.725306,55.735621,55.792361,55.737897,55.7025,null,55.92143,null,null,55.661003,null,55.791486,55.655874,55.806515,null,55.775793,55.791795,55.648214,null,null,55.806808,null,null,55.761376,55.559817,55.868289,55.7942292727431,null,null,55.819064,null,55.650043,null,null,null,null,55.783261,55.757333,null,null,null,55.758473,null,55.781433,55.930599,null,55.749511,55.817512,55.703251,55.655869,55.785599,null,null,55.795069,null,55.676103,55.748934,55.908389,55.846396,55.87468692001537,null,55.699862,55.731718,null,55.633028,55.75975,55.812024,null,55.793065,55.78985027408336,55.878804,55.884721,55.790534,55.807476,55.710098,55.726639,55.835715,55.779454,55.726639,null,null,55.683376,55.776198,55.70461,55.663629,55.790529,null,55.751345,55.745853,55.723415,55.717776,null,55.720961,55.733802,55.617673,55.700096,null,55.692313,55.74751,55.707076,null,null,55.709515,55.621862,55.788905,null,55.792119,55.644897,55.616869,55.881985,55.893112,55.750849,null,55.788631,null,null,55.755454,null,55.761148,null,null,55.634181,55.81908,55.820324,null,55.800595,55.754294,55.911537,null,55.78814,55.73997,null,55.799077,null,null,55.780593,null,null,55.699807,55.837318,null,55.671691,55.744997,55.707395,55.814462,55.744318,null,55.769221,null,55.753656,null,null,55.786424,55.782623,null,null,null,55.698011,null,null,null,null,55.870112,null,null,55.7213,55.73403,55.78116,55.771297,55.768279,null,null,55.725585,null,55.576961,55.708506,55.749395,55.727693,56.846573,55.570395,55.730963,55.790722,55.70750135377318,null,55.713988,55.725093,null,55.67926,55.664187,55.860509,null,55.740867,55.759684,55.811224,null,null,55.639187,55.891244,55.826149,55.762620782063834,null,55.676103,55.753818,null,null,55.709231,55.675463,48.749197,55.764176,55.779499,55.603639,55.787077,null,null,55.75322,null,55.791744,55.710058,null,null,55.738637,55.673646,55.799385694460746,55.741728,55.77835,55.643383,55.534484,null,55.755925,null,55.651186,55.704793,55.683894,55.634745,55.714937,null,55.746476,55.791177,55.607372,null,55.675306,55.76481797442722,55.649378,55.686376,55.692389,null,null,55.727582,55.850408,55.743872,54.742304,55.749648,55.738495,55.634181,null,55.656682,55.710129,55.699862,null,55.800792,null,null,55.775965,55.663629,null,55.747991,null,null,null,55.726269,55.709231,55.706315,null,55.683392,null,55.801916,55.766142,47.222078,55.714713,55.632896,null,null,55.921531,null,55.709104,55.8083,null,null,55.784303,null,55.857508,55.69834,55.744444,55.735221,55.735647,null,null,55.622314,55.754507,55.640111,55.888478,55.771059,55.726396,55.774583,55.654142,55.63179481664745,55.768248,55.749633,55.847609,55.585026,55.714713,55.657179,null,55.665584,null,55.789406,null,55.635086,55.752587,55.712594,55.70742,null,55.838268,55.728094,55.721427,55.703992,null,55.83810043303197,55.684508,55.845658,null,null,55.812373,55.707081,null,55.716042,null,55.677626,55.687868,55.703992,55.718248,55.654614,55.81908,null,55.65366,null,null,null,null,55.850408,null,null,55.555739,null,55.708688,null,55.859024,55.747495,55.703038,55.778583,null,55.787113,55.631773,55.747622,55.88669,55.754709,null,null,55.736625,null,55.709622,null,null,null,55.583205,55.789461,55.745032,55.75253533654941,55.79055,null,null,55.810395,55.741896,null,null,55.772405,null,null,55.862404,55.706315,55.757648,null,55.785979,null,55.845294,null,55.681686,null,55.839335,55.775484,null,55.7195,null,null,55.80273091366014,55.763589,55.840437,55.678362,55.770902,null,55.731876,null,55.777899,55.903893,55.875965,55.632916,55.672021,55.706076,null,55.781261,null,null,null,null,55.780588,55.634181,null,55.764648,55.856184,null,55.656682,55.862626,55.78520003614492,55.634835123816934,55.810395,null,55.73403,55.67961,55.74487,55.753488,55.752055,null,55.777449,55.711316,55.70320218899433,null,55.71243599968841,null,55.817471,55.621816,55.665802,null,55.862626,55.623112,55.751447,null,55.748848,null,55.659967,55.683508,55.751396,55.74487,55.722801,59.87533,55.628119,null,55.655752,55.714805,55.829067,55.787396,55.82485,55.541978,null,55.842342,55.725306,null,55.774082,55.804936,55.490503,55.780588,55.737537,null,null,55.792119,null,55.706421,null,null,55.763295,55.724059,null,55.937911,55.789947,55.749415,55.800979,null,55.64986,55.711316,null,55.735682,null,55.656306,55.776705,55.776705,55.730912,null,55.763624,null,55.801435,null,55.749511,55.762049,55.752587,null,55.676103,55.7759,null,55.78855,55.749628,55.729983115817866,55.84121,null,55.757085,55.802755,null,55.656682,55.755023,55.585326,null,55.886044,null,55.729569,55.791486,null,null,55.79764,55.722036,55.837181,null,55.790671,null,null,55.709444,55.797159,55.685731,55.811943,55.8529,null,55.703525,null,55.752045,55.65010146639547,null,55.709155,null,55.653304,55.790671,55.576686,null,55.724824,55.812701,55.778021,null,55.839855,null,55.710631,55.779504,55.648519,55.643383,55.782476,55.744982,null,55.670133,55.874607,55.88928,null,55.615436,55.610845,null,null,55.726827,null,null,55.786424,null,55.797159,55.700994,55.70285,55.730441,null,55.774107,null,55.751047,55.709449,55.759684,55.786424,55.810228,55.647071,55.660531,null,55.6318013819216,null,null,null,null,55.760818,55.762844,55.81718034124937,56.454811,55.889073,55.856563,55.725143,55.860676,55.792108,55.786424,55.83982,null,55.800438,55.831236,55.744318,null,null,null,null,55.79263,null,55.681666,55.714262,null,55.683392,55.75903,null,null,55.699157,55.74597,55.633028,55.696360276331966,55.784349,55.710601,55.623117,null,55.673824,55.768745,null,null,55.775955,null,null,null,55.633871,55.767691,55.889876,55.746507,null,55.6585942327413,null,55.633104,null,55.706421,55.634181,null,55.776527,55.831064,55.879955,55.697742,55.786895,null,55.671331,55.878804,null,55.776613,55.704808,null,null,55.64887,55.931774,55.728297,null,55.746481,55.87589,55.80958,55.730441,55.706421,55.733974,55.80061,null,55.708303,55.733523,55.579241,null,null,55.958003,null,55.685437,null,55.799117,55.685269,null,null,55.725093,null,55.733234,55.675443,55.782906,55.844758,null,null,null,55.689273,55.7832,null,55.738307,null,55.689273,55.712594,55.699801,55.66076,55.633973,null,55.815696,55.814892,55.623117,55.643886,55.772036,null,55.643886,55.704626,55.710124,null,55.653304,null,55.727693,55.714805,55.711747,55.734679,55.735226,55.754674,null,null,55.754036,null,55.777899,null,null,55.839891,55.707233,null,null,55.69351,null,55.82300617819913,null,55.627244,55.689725,55.663634,null,null,55.834659,null,55.790195,null,55.714191,null,55.645984,55.749633,55.804911,55.758073,null,55.718035,55.750981,55.59018085968881,55.721189,55.751437,55.776224,null,55.797316,null,55.648225,55.753909,55.730436,55.824309,null,55.72307,55.609838,56.096051,55.161774,55.73481,55.775555,null,55.791486,55.76123458624309,null,null,null,55.749633,55.797159,55.72091,55.763589,null,55.837191,55.683676,null,null,null,55.74862,55.80653,55.780532,null,55.77755,55.762789,55.850408,55.70461,55.911537,55.806555,55.754927,55.758215,null,null,null,55.831231,55.5481827649376,55.753727,null,null,55.692318,55.755348,null,null,55.739564,55.572182,55.736878,55.69558,55.685802,55.8083,55.819995,null,55.708303,55.631768,null,null,null,55.742549,null,55.639527,null,null,null,null,55.800797,null,null,55.898457,null,55.851359,55.804025,55.81142945921692,null,55.65015,null,null,null,55.708354,55.610845,55.672021,null,null,59.960251,55.825891,null,55.653304,55.685335,null,55.713988,null,55.79299664408927,null,55.804122,55.811953,55.679798,55.860509,55.752526,55.716798,55.807602,55.808776,55.77791,null,55.734866,null,55.610107,55.663558,null,null,55.703976,55.77353,55.714805,null,55.762682,55.666909,55.633028,55.766992,55.712137,55.804936,null,null,55.723146,null,55.785164,null,55.704793,55.643383,55.770441,55.792326,55.712158,null,55.687015,55.905452,55.783423,55.722801,55.50522124603668,55.73368,55.650145,null,55.695677,null,55.614561,55.73591,null,null,55.612599,55.719323,55.709257,null,55.75207,55.848362,null,55.702434,null,null,55.811128,55.692313,55.806555,55.731257,55.712472,55.764176,null,null,null,null,55.836615,55.775555,55.547713,null,null,null,null,null,null,55.682057,55.653172,55.752572,null,55.735307,55.780319,55.889876,55.752572,55.73925,55.773849,55.811513,55.720956,55.727465,55.821097,55.771839,55.79185,55.789785,55.708902,55.821623,null,55.650145,null,55.804921,55.56898,55.683518,55.684493,null,55.820025,null,55.824314,null,55.613443,55.730441,55.717822,55.799041,55.715418,55.695002,55.915679,55.634862,null,55.634181,55.891148,55.767732,55.712589,null,null,55.653172,55.816728,null,55.711361,55.792119,null,55.685802,55.775454,55.725372,55.783701,null,55.749633,55.710129,null,55.820015,55.660912,null,55.740441,55.74649612894585,55.858321,null,null,null,55.786242,55.804774,55.746481,55.780588,null,55.145745,55.722603,null,null,null,55.753676,null,55.70918,55.707167,55.805533,55.896216,55.644892,55.708526],\"legendgroup\":\"\",\"lon\":[37.601807,null,37.498016,null,37.635485,37.539626,null,null,37.760108,37.658329,37.62368,37.537083,37.596453,null,37.638413,37.43622370101811,37.537083,null,37.558212,37.576789,37.625406,37.6547,37.582745,37.442302,37.631954,37.630086,null,37.542824,37.613063,null,null,37.617698,37.347081,null,null,37.603442,37.642572,37.622729,37.583508,37.537434,37.503855,37.755823,37.65311,null,null,37.534913488029105,37.558921,37.672504,null,37.537434,37.756685,37.502624,37.545195,null,null,null,null,null,null,37.542824,38.233008,37.682619,37.536967,null,37.581325,37.6206,37.539626,null,null,null,null,37.586122,37.58411,null,37.635027,37.459334,null,null,37.506316,37.677652,37.548734,null,37.537083,null,37.431432,37.509245,37.629017,37.648465,null,null,37.654394,37.755697,37.440496,37.605751,37.51759,null,null,null,null,37.769046,37.65461,37.729242,null,37.647738,null,null,37.855904,null,37.759524,37.668022,37.537083,37.537434,37.511742,37.710207,null,37.626618,37.759524,37.588224,null,null,37.600388,null,null,null,37.718669,37.662785,null,37.649903,37.516925,37.44394864886999,null,null,null,null,37.65364,37.646489,37.605373,null,37.441035,37.510215,37.539635,null,37.652705,37.519764,37.453836,37.750559,null,null,37.622872,37.59789,37.592159,37.372584,37.65691,37.784138,null,null,37.6827,null,37.625037,37.571345,37.537083,37.497018,37.625397,37.50646,37.598672,37.752877,null,37.755877,null,37.537434,37.599031,37.619881,null,null,37.609065,null,37.624534,37.600388,null,null,null,37.442302,37.492024,null,37.539626,37.588108,37.547656,37.641817523802814,37.566764,37.677643,37.676053,null,37.60779,null,null,null,37.539626,37.643704,null,37.420275,37.39196,37.539626,37.563916,37.712246,37.655508,37.58402,37.66442,37.677643,null,null,37.581972,null,37.725487,37.490497,null,37.694208,37.794343,37.640138,37.877787,37.507349,null,37.586068,37.415514,null,37.625909,37.580481,null,37.617698,37.555885,37.560799,37.951368,37.649678,37.71671,37.529412,37.760063,37.798556,37.587587,37.659326,37.501223,37.632439,null,null,37.592509,null,37.595321,30.42054,37.626771,37.64577,null,37.539401,null,37.439158,37.623896,37.66053,37.383876,null,37.423437,37.413304,37.753955,37.504708,37.638737,37.639887,null,null,37.604753,null,null,37.65461,37.422728,37.603981,null,null,37.371164,37.676196,37.434954,null,37.652813,null,37.622405,37.386687,null,37.715138,null,37.539635,null,null,null,null,37.850658,37.755697,37.47492,37.560547,null,37.483849,37.578343,37.663297,37.466691,37.6827,37.771786,37.116887,37.750559,37.585592,37.649454,37.519764,null,37.645744,37.746238,37.698861,null,37.48404008465512,37.620501,37.504717,37.497153,null,null,null,37.490263,37.546327,37.769648,null,37.690129,37.638054,37.604044,37.622368291015306,null,37.570734,37.552184,37.629259,null,null,null,37.580193,37.684326,37.573429,37.551932,37.672001,37.722199,null,null,null,null,null,37.34762,37.606631,null,37.98439,37.51759,37.383876,null,37.678703,37.55248,null,49.681569,37.661527,null,37.652957,37.59206,37.439158,37.617698,37.587847,37.711249,37.425342,null,null,null,null,37.686779,37.624741,37.44409,null,null,null,37.576995,null,null,37.586796,37.606155,null,37.626187,37.511472,null,37.535071,37.636374,37.711258,null,37.636329,37.65461,null,37.583463,37.664958,null,37.645142,null,37.468479,null,37.599094,37.633032,37.54224,null,37.671938,null,37.62368,37.599956,37.067166,37.622306,37.550055,37.715911,null,37.85904,37.452453,37.625118,37.537083,37.723268,null,37.490353,37.540488,null,37.746517,37.638737,null,null,37.617572,37.542824,null,37.61848,null,37.589168,37.555876,37.558921,37.6827,37.71671,37.661536,null,37.122196,null,37.639383,null,37.624265,null,37.669971,37.441026,37.594584,37.748286,37.570743,37.603487,37.598753,37.572225,null,37.658383,37.75011,37.697648,37.84967,37.618423,37.581173,37.819541,37.663279,30.317395,null,null,37.371164,37.402749,null,37.531936,null,null,37.698538,null,null,37.640021,37.611185,null,null,37.567931,null,37.492024,null,37.600882,null,null,null,37.691881,null,37.693723,37.532951,null,null,null,37.539626,null,37.772325,37.650226,37.558805,null,37.864061,37.51759,37.583508,37.599813,37.492563,61.416361,37.618354,37.356818,37.558921,37.55182260713085,null,37.535071,37.519315,37.731883,null,37.781901,null,37.526528,null,37.586661,37.744388,37.539626,37.618992,37.631631,37.664743,null,37.503361,null,null,37.632745,null,37.526115,37.486769,null,37.510484,37.588862,37.539626,null,null,37.573447,37.698996,37.386247,37.610871,null,null,37.671372,null,37.636976,null,null,37.693785,37.683527,37.632161,37.707107,37.682619,37.470635,37.760063,37.570959,null,37.400135,37.483283,null,37.624534,37.647567,37.497324,37.56868996847629,37.595025,37.468479,null,null,null,37.415963,37.71764254959749,37.520572,37.72343,null,null,null,37.572396,37.493129,null,37.572396,37.521641,null,37.583895,null,37.579124,37.60399,null,37.734982,null,37.500926,null,37.581173,37.662138,37.648412,37.605733,37.599381,37.648474,37.638737,37.689348,null,37.54224,37.743902,37.573133,37.614069,null,null,null,37.555391,37.579098,37.621947,37.791396,null,37.51759,37.489886,37.539626,37.480382,37.838226,null,37.591,37.735153,37.633886,37.715911,37.632098,null,null,37.568722,null,37.653235,37.636581,null,null,37.555436,37.563584,null,null,37.632745,null,null,37.657332,null,null,37.584622,37.636733,37.61114,37.654098,37.63835,37.587093,37.676897,37.587128,null,37.62540532944773,null,37.715552,37.702796,37.614267,null,37.60894,37.509245,37.539122,37.718669,37.48296,37.681245,null,null,37.542141,37.542824,37.541404,37.644189,null,null,37.613952,null,37.476995,37.516979,null,37.539087,null,null,37.64610687731509,37.573447,37.714051,37.926476,null,37.634676,37.645357,null,null,37.730482,37.791396,37.546561,null,null,null,null,37.66442,37.567931,60.597474,null,37.711249,null,null,37.721256,37.578819,37.691854,37.626448,37.450444213325895,37.63569618650781,37.64569,37.529412,null,null,37.640533,37.832081,37.537434,37.564455,37.703802,null,37.71062,37.414769,37.624534,37.771858,37.568812,null,null,37.523653,37.652436,37.645744,null,37.404627,37.587362,37.6024,null,37.611976,37.612344,null,null,37.443829,37.610278,37.638737,37.755697,37.382402,37.602526,null,37.517015,37.55893,null,null,37.662722,37.44603,37.698538,37.66998,37.483095,null,null,null,37.663279,37.839268,37.732593,37.65947,null,null,null,null,37.540748,null,37.659892,37.630158,37.265559,null,37.729242,null,37.525208,37.582116,null,null,37.551735,null,37.530822,null,37.512398,37.600217,null,null,null,null,37.416619,37.58084,37.65461,37.716612,37.682592,37.525208,37.693723,37.506056,37.625037,null,37.470581,37.732691,37.856443,37.603981,37.711347,37.765022,37.444997,37.623680000000036,null,37.779341,37.626726,null,37.540245,37.58470127116276,37.853416,null,37.39196,null,null,37.546093,null,37.403118,37.864879,37.570096,37.440335,37.661392,37.579672,null,null,null,37.64524620635933,null,null,37.682619,37.38039,37.539078,37.51017,null,37.735174,null,37.635934,37.676969,37.585404,37.537434,37.508229,null,null,null,37.53287,37.638737,37.485358,null,null,37.681955,null,37.719378,37.637919,null,37.537434,null,null,37.66998,37.772559,37.656514,null,37.62996,null,null,37.603235,37.482843,null,37.760063,null,37.62369,37.624534,37.51759,37.57722,37.622558,37.598029998672025,37.588808,37.791396,37.587937,37.581065,null,37.62828,37.755392,37.723367,37.629017,37.679341,37.703029,null,null,null,37.8335,37.624974,37.602355,37.65452,37.671408,37.667528,null,37.526115,null,null,null,37.604205,null,37.576007,37.705643,37.645258,37.537083,37.536967,37.380354,null,37.682646,37.537434,37.632646,37.241825,37.717824,37.65461,null,37.539635,37.537434,37.681335,37.652436,null,37.61512,37.582206,37.404923,null,37.729664,null,null,null,37.551717,38.010082,37.771939,null,37.349749,37.702796,37.652301,37.552427,37.55416,null,37.366403,37.746283,37.501941,37.537434,37.565901,37.705293,37.651367,37.539087,null,37.41087,37.594701,null,null,null,37.462326,null,null,37.793606,null,37.607538,null,null,37.760108,37.716477,37.527615,37.713117,37.496902,null,37.77325,null,null,37.620941,null,37.581173,37.555391,37.587892,null,37.585556,37.62625,37.540856,null,null,37.625621,null,null,37.552723,37.58517,37.498366,37.692075491076224,null,null,37.498016,null,37.529906,null,null,null,null,37.600388,37.708221,null,null,null,37.559559,null,37.582682,37.748286,null,37.537083,37.655823,37.744612,37.555382,37.7062,null,null,37.732135,null,37.625037,37.763692,37.414751,37.655544,37.588211004962915,null,37.561679,37.487362,null,37.441395,37.664958,37.833994,null,37.591692,37.55182260713085,37.729988,37.60372,37.659254,37.505292,37.684542,37.645959,37.503576,37.864528,37.645959,null,null,37.574112,37.556649,37.726385,37.483095,37.569063,null,37.678972,37.837264,37.696049,37.785135,null,37.773628,37.438915,37.63058,37.342535,null,37.347476,37.534954,37.690129,null,null,37.590542,37.783249,37.581972,null,37.603397,37.829117,37.609973,37.547665,37.501223,37.683994,null,37.709362,null,null,37.565668,null,37.730958,null,null,37.439158,37.634784,37.747828,null,37.636671,37.71459,37.542617,null,37.586868,37.722433,null,37.529825,null,null,37.602391,null,null,37.644612,37.489491,null,37.292849,37.626178,37.692537,37.385412,37.738881,null,37.640704,null,37.751987,null,null,37.725433,37.723367,null,null,null,37.625118,null,null,null,null,37.469808,null,null,37.573142,37.66353,37.631847,37.622378,37.602966,null,null,37.643192,null,37.620725,37.602588,37.536967,37.860585,35.961402,37.475495,37.646687,37.466691,37.59867503173766,null,37.71866,37.760045,null,37.468748,37.598672,37.483229,null,37.416619,37.66486,37.509757,null,null,37.645258,37.590075,37.626421,37.531148326388205,null,37.625037,37.642608,null,null,37.805177,37.581065,44.548183,37.617384,37.711249,37.439266,37.705517,null,null,37.715471,null,37.748619,37.442572,null,null,37.651133,37.440317,37.52703827116312,37.593974,37.623375,37.593749,37.574175,null,37.681973,null,37.483104,37.597809,37.298482,37.439077,37.621884,null,37.68261,37.520411,37.645905,null,37.624741,37.71901392757764,37.683572,37.614491,37.622729,null,null,37.630203,37.44409,37.626888,20.50366,37.703505,37.719864,37.439158,null,37.540075,37.65461,37.561679,null,37.71389,null,null,37.542222,37.483095,null,37.651987,null,null,null,37.713351,37.805177,37.603002,null,37.622872,null,37.826224,37.640138,39.720358,37.676978,37.630939,null,null,37.951252,null,37.655329,37.834596,null,null,37.562775,null,37.583203,37.625531,37.588287,37.663279,37.715138,null,null,37.753775,37.58985,37.532951,37.759012,37.630086,37.784803,37.52245,37.555885,37.618184655086175,37.598339,37.537434,37.504708,37.473626,37.676969,37.551573,null,37.543704,null,37.569539,null,38.010082,37.702346,37.72387,37.598825,null,37.4114,37.560017,37.651538,37.625909,null,37.4173416264057,37.62652,37.655427,null,null,37.631892,37.654457,null,37.682206,null,37.780949,37.74472,37.625909,37.477175,37.55664,37.634784,null,37.614365,null,null,null,null,37.44409,null,null,38.209095,null,37.624498,null,37.546875,37.811375,37.708662,37.696471,null,37.718399,37.618031,37.535071,37.436733,37.509837,null,null,37.710458,null,37.624885,null,null,null,37.59674,37.551735,37.648438,37.67155081481826,37.547387,null,null,37.593668,37.589922,null,null,37.67904,null,null,37.658967,37.603002,37.750909,null,37.660521,null,37.567797,null,37.633176,null,37.664851,37.676214,null,37.630176,null,null,37.583783574238666,37.405893,37.651232,37.631757,37.466071,null,37.686752,null,37.606891,37.427112,37.588108,37.630975,37.583895,37.643444,null,37.603666,null,null,null,null,37.590677,37.439158,null,37.595195,37.659254,null,37.540075,37.548339,37.579244266200334,37.437075899413685,37.593668,null,37.66353,37.550333,37.645842,37.698043,37.71733,null,37.519315,37.652777,37.661807659656404,null,37.41859099503647,null,37.655688,37.424057,37.741549,null,37.548339,37.603981,37.773628,null,37.588826,null,37.599094,37.573968,37.23763,37.645842,37.674993,30.981457,37.629915,null,37.854728,37.677337,37.410556,37.499372,37.415317,37.693992,null,37.381199,37.760108,null,37.588584,37.589922,37.574067,37.590677,37.590147,null,null,37.603397,null,37.647657,null,null,37.654817,37.609559,null,37.779979,37.570051,37.68067,37.531774,null,37.926467,37.652768,null,37.622863,null,37.536068,37.678281,37.678281,37.697612,null,37.594665,null,37.592222,null,37.537083,37.68085,37.702355,null,37.625037,37.677409,null,37.663431,37.537425,37.641169884932516,37.64957,null,37.735395,37.55416,null,37.540075,37.509245,37.724822,null,37.67846,null,37.686213,37.581173,null,null,37.467383,37.471398,37.497324,null,37.550145,null,null,37.442302,37.51759,37.572396,37.804125,37.567446,null,37.743804,null,37.66998,37.54054867990092,null,37.595321,null,37.553963,37.550136,37.622055,null,37.642626,37.633392,37.57086,null,37.490263,null,37.444189,37.711258,37.686302,37.593749,37.500818,37.579044,null,37.552427,37.587865,37.578819,null,37.624148,37.718669,null,null,37.568623,null,null,37.608841,null,37.51759,37.422791,37.648474,37.736743,null,37.530885,null,37.759749,37.442311,37.66486,37.608841,37.509766,37.673582,37.741827,null,37.61840019147004,null,null,null,null,37.666486,37.65858,37.56806480125672,84.970673,37.594306,37.599507,37.760063,37.655778,37.540757,37.608841,37.488655,null,37.636706,37.446039,37.738881,null,null,null,null,37.506451,null,37.51662,37.655176,null,37.622872,37.737021,null,null,37.806075,37.514958,37.441395,37.34692745368862,37.482592,37.688036,37.60399,null,37.612856,37.645582,null,null,37.54224,null,null,null,37.45372,37.598052,37.634227,37.427749,null,37.8539811260998,null,37.441727,null,37.647657,37.439158,null,37.679403,37.634676,37.715704,37.625424,37.500585,null,37.445814,37.729988,null,37.67484,37.597809,null,null,37.536607,37.778128,37.566593,null,37.682619,37.595016,37.607538,37.736743,37.647657,37.587093,37.825892,null,37.652822,37.552184,37.607601,null,null,37.52828,null,37.621732,null,37.609092,37.628756,null,null,37.760045,null,37.697172,37.734389,37.598232,37.500926,null,null,null,37.625576,37.719423,null,37.614563,null,37.625576,37.72387,37.85833,37.54356,37.453324,null,37.600172,37.574157,37.60399,37.512496,37.518309,null,37.512496,37.604412,37.654601,null,37.553963,null,37.644333,37.677337,37.692222,37.632305,37.663279,37.694989,null,null,37.749831,null,37.606891,null,null,37.486796,37.688306,null,null,37.660548,null,37.52619492261341,null,37.439733,37.718067,37.483095,null,null,37.501348,null,37.71106,null,37.670914,null,37.673151,37.537434,37.311696,37.547144,null,37.502857,37.755356,37.67032701852329,37.652301,37.716621,37.689941,null,37.699562,null,37.627705,37.658383,37.407043,37.429303,null,37.702373,37.538233,37.505993,61.429692,37.66521,37.674597,null,37.581173,37.617314507934424,null,null,null,37.537434,37.51759,37.650819,37.405893,null,37.501241,37.623061,null,null,null,37.751915,37.584972,37.640991,null,37.649445,37.625837,37.44409,37.726385,37.542617,37.588224,37.634506,37.768453,null,null,null,37.44603,37.555706360315774,37.603675,null,null,37.347485,37.759533,null,null,37.507349,37.563934,37.654206,37.421847,37.441817,37.586805,37.463296,null,37.652822,37.618022,null,null,null,37.799275,null,37.542401,null,null,null,null,37.71389,null,null,37.54215,null,37.575792,37.745528,37.64229560118813,null,37.539626,null,null,null,37.652705,37.718669,37.583895,null,null,30.302564,37.625343,null,37.553963,37.875964,null,37.718669,null,37.70831111772081,null,37.755697,37.636374,37.623402,37.483229,37.754008,37.64489,37.635422,37.613054,37.741216,null,37.566189,null,37.492967,37.70735,null,null,37.723654,37.599256,37.677337,null,37.628927,37.544467,37.441395,37.526321,37.687883,37.589922,null,null,37.681047,null,37.707943,null,37.597809,37.593749,37.736419,37.70647,37.749822,null,37.607089,37.539311,37.707745,37.674993,37.73868788033724,37.664141,37.539626,null,37.498402,null,37.606631,37.411113,null,null,37.604565,37.668381,37.470006,null,37.601367,37.425935,null,37.694172,null,null,37.862273,37.347476,37.588215,37.669288,37.654394,37.617384,null,null,null,null,37.451276,37.674597,37.765534,null,null,null,null,null,null,37.629655,37.515461,37.771786,null,37.592869,37.632098,37.634227,37.771786,37.508229,37.671462,37.624714,37.773619,37.479986,37.641045,37.605256,37.557197,37.73235,37.721058,37.616414,null,37.539626,null,37.390685,37.459056,37.337505,37.855087,null,37.576546,null,37.429303,null,37.619881,37.736743,37.719908,37.694019,37.646013,37.422728,37.768094,37.439508,null,37.439158,37.491036,37.613494,37.72387,null,null,37.515461,37.647352,null,37.652768,37.603397,null,37.441817,37.676241,37.454375,37.585709,null,37.537434,37.65461,null,37.576492,37.744046,null,37.527346,37.68235346130728,37.655113,null,null,null,37.632413,37.322251,37.682619,37.590677,null,61.414582,37.702796,null,null,null,37.619899,null,37.380929,37.610278,37.521336,37.517698,37.59056,37.797352],\"marker\":{\"color\":\"fuchsia\"},\"mode\":\"markers\",\"name\":\"\",\"showlegend\":false,\"subplot\":\"mapbox\",\"type\":\"scattermapbox\"}],                        {\"template\":{\"data\":{\"bar\":[{\"error_x\":{\"color\":\"#2a3f5f\"},\"error_y\":{\"color\":\"#2a3f5f\"},\"marker\":{\"line\":{\"color\":\"#E5ECF6\",\"width\":0.5},\"pattern\":{\"fillmode\":\"overlay\",\"size\":10,\"solidity\":0.2}},\"type\":\"bar\"}],\"barpolar\":[{\"marker\":{\"line\":{\"color\":\"#E5ECF6\",\"width\":0.5},\"pattern\":{\"fillmode\":\"overlay\",\"size\":10,\"solidity\":0.2}},\"type\":\"barpolar\"}],\"carpet\":[{\"aaxis\":{\"endlinecolor\":\"#2a3f5f\",\"gridcolor\":\"white\",\"linecolor\":\"white\",\"minorgridcolor\":\"white\",\"startlinecolor\":\"#2a3f5f\"},\"baxis\":{\"endlinecolor\":\"#2a3f5f\",\"gridcolor\":\"white\",\"linecolor\":\"white\",\"minorgridcolor\":\"white\",\"startlinecolor\":\"#2a3f5f\"},\"type\":\"carpet\"}],\"choropleth\":[{\"colorbar\":{\"outlinewidth\":0,\"ticks\":\"\"},\"type\":\"choropleth\"}],\"contour\":[{\"colorbar\":{\"outlinewidth\":0,\"ticks\":\"\"},\"colorscale\":[[0.0,\"#0d0887\"],[0.1111111111111111,\"#46039f\"],[0.2222222222222222,\"#7201a8\"],[0.3333333333333333,\"#9c179e\"],[0.4444444444444444,\"#bd3786\"],[0.5555555555555556,\"#d8576b\"],[0.6666666666666666,\"#ed7953\"],[0.7777777777777778,\"#fb9f3a\"],[0.8888888888888888,\"#fdca26\"],[1.0,\"#f0f921\"]],\"type\":\"contour\"}],\"contourcarpet\":[{\"colorbar\":{\"outlinewidth\":0,\"ticks\":\"\"},\"type\":\"contourcarpet\"}],\"heatmap\":[{\"colorbar\":{\"outlinewidth\":0,\"ticks\":\"\"},\"colorscale\":[[0.0,\"#0d0887\"],[0.1111111111111111,\"#46039f\"],[0.2222222222222222,\"#7201a8\"],[0.3333333333333333,\"#9c179e\"],[0.4444444444444444,\"#bd3786\"],[0.5555555555555556,\"#d8576b\"],[0.6666666666666666,\"#ed7953\"],[0.7777777777777778,\"#fb9f3a\"],[0.8888888888888888,\"#fdca26\"],[1.0,\"#f0f921\"]],\"type\":\"heatmap\"}],\"heatmapgl\":[{\"colorbar\":{\"outlinewidth\":0,\"ticks\":\"\"},\"colorscale\":[[0.0,\"#0d0887\"],[0.1111111111111111,\"#46039f\"],[0.2222222222222222,\"#7201a8\"],[0.3333333333333333,\"#9c179e\"],[0.4444444444444444,\"#bd3786\"],[0.5555555555555556,\"#d8576b\"],[0.6666666666666666,\"#ed7953\"],[0.7777777777777778,\"#fb9f3a\"],[0.8888888888888888,\"#fdca26\"],[1.0,\"#f0f921\"]],\"type\":\"heatmapgl\"}],\"histogram\":[{\"marker\":{\"pattern\":{\"fillmode\":\"overlay\",\"size\":10,\"solidity\":0.2}},\"type\":\"histogram\"}],\"histogram2d\":[{\"colorbar\":{\"outlinewidth\":0,\"ticks\":\"\"},\"colorscale\":[[0.0,\"#0d0887\"],[0.1111111111111111,\"#46039f\"],[0.2222222222222222,\"#7201a8\"],[0.3333333333333333,\"#9c179e\"],[0.4444444444444444,\"#bd3786\"],[0.5555555555555556,\"#d8576b\"],[0.6666666666666666,\"#ed7953\"],[0.7777777777777778,\"#fb9f3a\"],[0.8888888888888888,\"#fdca26\"],[1.0,\"#f0f921\"]],\"type\":\"histogram2d\"}],\"histogram2dcontour\":[{\"colorbar\":{\"outlinewidth\":0,\"ticks\":\"\"},\"colorscale\":[[0.0,\"#0d0887\"],[0.1111111111111111,\"#46039f\"],[0.2222222222222222,\"#7201a8\"],[0.3333333333333333,\"#9c179e\"],[0.4444444444444444,\"#bd3786\"],[0.5555555555555556,\"#d8576b\"],[0.6666666666666666,\"#ed7953\"],[0.7777777777777778,\"#fb9f3a\"],[0.8888888888888888,\"#fdca26\"],[1.0,\"#f0f921\"]],\"type\":\"histogram2dcontour\"}],\"mesh3d\":[{\"colorbar\":{\"outlinewidth\":0,\"ticks\":\"\"},\"type\":\"mesh3d\"}],\"parcoords\":[{\"line\":{\"colorbar\":{\"outlinewidth\":0,\"ticks\":\"\"}},\"type\":\"parcoords\"}],\"pie\":[{\"automargin\":true,\"type\":\"pie\"}],\"scatter\":[{\"marker\":{\"colorbar\":{\"outlinewidth\":0,\"ticks\":\"\"}},\"type\":\"scatter\"}],\"scatter3d\":[{\"line\":{\"colorbar\":{\"outlinewidth\":0,\"ticks\":\"\"}},\"marker\":{\"colorbar\":{\"outlinewidth\":0,\"ticks\":\"\"}},\"type\":\"scatter3d\"}],\"scattercarpet\":[{\"marker\":{\"colorbar\":{\"outlinewidth\":0,\"ticks\":\"\"}},\"type\":\"scattercarpet\"}],\"scattergeo\":[{\"marker\":{\"colorbar\":{\"outlinewidth\":0,\"ticks\":\"\"}},\"type\":\"scattergeo\"}],\"scattergl\":[{\"marker\":{\"colorbar\":{\"outlinewidth\":0,\"ticks\":\"\"}},\"type\":\"scattergl\"}],\"scattermapbox\":[{\"marker\":{\"colorbar\":{\"outlinewidth\":0,\"ticks\":\"\"}},\"type\":\"scattermapbox\"}],\"scatterpolar\":[{\"marker\":{\"colorbar\":{\"outlinewidth\":0,\"ticks\":\"\"}},\"type\":\"scatterpolar\"}],\"scatterpolargl\":[{\"marker\":{\"colorbar\":{\"outlinewidth\":0,\"ticks\":\"\"}},\"type\":\"scatterpolargl\"}],\"scatterternary\":[{\"marker\":{\"colorbar\":{\"outlinewidth\":0,\"ticks\":\"\"}},\"type\":\"scatterternary\"}],\"surface\":[{\"colorbar\":{\"outlinewidth\":0,\"ticks\":\"\"},\"colorscale\":[[0.0,\"#0d0887\"],[0.1111111111111111,\"#46039f\"],[0.2222222222222222,\"#7201a8\"],[0.3333333333333333,\"#9c179e\"],[0.4444444444444444,\"#bd3786\"],[0.5555555555555556,\"#d8576b\"],[0.6666666666666666,\"#ed7953\"],[0.7777777777777778,\"#fb9f3a\"],[0.8888888888888888,\"#fdca26\"],[1.0,\"#f0f921\"]],\"type\":\"surface\"}],\"table\":[{\"cells\":{\"fill\":{\"color\":\"#EBF0F8\"},\"line\":{\"color\":\"white\"}},\"header\":{\"fill\":{\"color\":\"#C8D4E3\"},\"line\":{\"color\":\"white\"}},\"type\":\"table\"}]},\"layout\":{\"annotationdefaults\":{\"arrowcolor\":\"#2a3f5f\",\"arrowhead\":0,\"arrowwidth\":1},\"autotypenumbers\":\"strict\",\"coloraxis\":{\"colorbar\":{\"outlinewidth\":0,\"ticks\":\"\"}},\"colorscale\":{\"diverging\":[[0,\"#8e0152\"],[0.1,\"#c51b7d\"],[0.2,\"#de77ae\"],[0.3,\"#f1b6da\"],[0.4,\"#fde0ef\"],[0.5,\"#f7f7f7\"],[0.6,\"#e6f5d0\"],[0.7,\"#b8e186\"],[0.8,\"#7fbc41\"],[0.9,\"#4d9221\"],[1,\"#276419\"]],\"sequential\":[[0.0,\"#0d0887\"],[0.1111111111111111,\"#46039f\"],[0.2222222222222222,\"#7201a8\"],[0.3333333333333333,\"#9c179e\"],[0.4444444444444444,\"#bd3786\"],[0.5555555555555556,\"#d8576b\"],[0.6666666666666666,\"#ed7953\"],[0.7777777777777778,\"#fb9f3a\"],[0.8888888888888888,\"#fdca26\"],[1.0,\"#f0f921\"]],\"sequentialminus\":[[0.0,\"#0d0887\"],[0.1111111111111111,\"#46039f\"],[0.2222222222222222,\"#7201a8\"],[0.3333333333333333,\"#9c179e\"],[0.4444444444444444,\"#bd3786\"],[0.5555555555555556,\"#d8576b\"],[0.6666666666666666,\"#ed7953\"],[0.7777777777777778,\"#fb9f3a\"],[0.8888888888888888,\"#fdca26\"],[1.0,\"#f0f921\"]]},\"colorway\":[\"#636efa\",\"#EF553B\",\"#00cc96\",\"#ab63fa\",\"#FFA15A\",\"#19d3f3\",\"#FF6692\",\"#B6E880\",\"#FF97FF\",\"#FECB52\"],\"font\":{\"color\":\"#2a3f5f\"},\"geo\":{\"bgcolor\":\"white\",\"lakecolor\":\"white\",\"landcolor\":\"#E5ECF6\",\"showlakes\":true,\"showland\":true,\"subunitcolor\":\"white\"},\"hoverlabel\":{\"align\":\"left\"},\"hovermode\":\"closest\",\"mapbox\":{\"style\":\"light\"},\"paper_bgcolor\":\"white\",\"plot_bgcolor\":\"#E5ECF6\",\"polar\":{\"angularaxis\":{\"gridcolor\":\"white\",\"linecolor\":\"white\",\"ticks\":\"\"},\"bgcolor\":\"#E5ECF6\",\"radialaxis\":{\"gridcolor\":\"white\",\"linecolor\":\"white\",\"ticks\":\"\"}},\"scene\":{\"xaxis\":{\"backgroundcolor\":\"#E5ECF6\",\"gridcolor\":\"white\",\"gridwidth\":2,\"linecolor\":\"white\",\"showbackground\":true,\"ticks\":\"\",\"zerolinecolor\":\"white\"},\"yaxis\":{\"backgroundcolor\":\"#E5ECF6\",\"gridcolor\":\"white\",\"gridwidth\":2,\"linecolor\":\"white\",\"showbackground\":true,\"ticks\":\"\",\"zerolinecolor\":\"white\"},\"zaxis\":{\"backgroundcolor\":\"#E5ECF6\",\"gridcolor\":\"white\",\"gridwidth\":2,\"linecolor\":\"white\",\"showbackground\":true,\"ticks\":\"\",\"zerolinecolor\":\"white\"}},\"shapedefaults\":{\"line\":{\"color\":\"#2a3f5f\"}},\"ternary\":{\"aaxis\":{\"gridcolor\":\"white\",\"linecolor\":\"white\",\"ticks\":\"\"},\"baxis\":{\"gridcolor\":\"white\",\"linecolor\":\"white\",\"ticks\":\"\"},\"bgcolor\":\"#E5ECF6\",\"caxis\":{\"gridcolor\":\"white\",\"linecolor\":\"white\",\"ticks\":\"\"}},\"title\":{\"x\":0.05},\"xaxis\":{\"automargin\":true,\"gridcolor\":\"white\",\"linecolor\":\"white\",\"ticks\":\"\",\"title\":{\"standoff\":15},\"zerolinecolor\":\"white\",\"zerolinewidth\":2},\"yaxis\":{\"automargin\":true,\"gridcolor\":\"white\",\"linecolor\":\"white\",\"ticks\":\"\",\"title\":{\"standoff\":15},\"zerolinecolor\":\"white\",\"zerolinewidth\":2}}},\"mapbox\":{\"domain\":{\"x\":[0.0,1.0],\"y\":[0.0,1.0]},\"center\":{\"lat\":55.751244,\"lon\":37.618423},\"zoom\":10,\"style\":\"open-street-map\"},\"legend\":{\"tracegroupgap\":0},\"margin\":{\"t\":0,\"r\":0,\"l\":0,\"b\":0},\"height\":1000,\"width\":1000},                        {\"responsive\": true}                    ).then(function(){\n",
              "                            \n",
              "var gd = document.getElementById('dcf86f4f-5c2a-4e09-bea7-aeee47cf86ad');\n",
              "var x = new MutationObserver(function (mutations, observer) {{\n",
              "        var display = window.getComputedStyle(gd).display;\n",
              "        if (!display || display === 'none') {{\n",
              "            console.log([gd, 'removed!']);\n",
              "            Plotly.purge(gd);\n",
              "            observer.disconnect();\n",
              "        }}\n",
              "}});\n",
              "\n",
              "// Listen for the removal of the full notebook cells\n",
              "var notebookContainer = gd.closest('#notebook-container');\n",
              "if (notebookContainer) {{\n",
              "    x.observe(notebookContainer, {childList: true});\n",
              "}}\n",
              "\n",
              "// Listen for the clearing of the current output cell\n",
              "var outputEl = gd.closest('.output');\n",
              "if (outputEl) {{\n",
              "    x.observe(outputEl, {childList: true});\n",
              "}}\n",
              "\n",
              "                        })                };                            </script>        </div>\n",
              "</body>\n",
              "</html>"
            ]
          },
          "metadata": {}
        }
      ]
    },
    {
      "cell_type": "markdown",
      "metadata": {
        "id": "ZvdL51lgg_YE"
      },
      "source": [
        "Какие выводы можно сделать из построенных графиков?\n",
        "\n",
        "**Выводы:**\n",
        "\n",
        "\n",
        "1.   Самое часто встречаемое требование об опыте работы - от 1 до 3 трех лет (возможно, тут работодатели предполагают, что кандидат молодой и ему будет проще заинтересовать покупателя)\n",
        "2.   Самые активные работодатели - фирмы-поставщики услуг малому и среднему бизнесу и продукции клиентам. Например,zoon.ru - сервис, помогающий развиваться малому и среднему бизнесу благодаря отзывам людей, Яндекс - менеджеры помогают распространению рекламы все того же малого и среднего бизнеса и распространению премиум аккаунтов.\n",
        "3.   Наибольшее количество вакансий находится внутри третьего транспортного кольца Москвы, далее идут северная и южная части. Это связано с большим количеством офисов крупных компаний-нанимателей из топа, которые располагают свои офисы в данных регионах.\n",
        "\n"
      ]
    }
  ],
  "metadata": {
    "colab": {
      "provenance": []
    },
    "kernelspec": {
      "display_name": "Python 3",
      "language": "python",
      "name": "python3"
    },
    "language_info": {
      "codemirror_mode": {
        "name": "ipython",
        "version": 3
      },
      "file_extension": ".py",
      "mimetype": "text/x-python",
      "name": "python",
      "nbconvert_exporter": "python",
      "pygments_lexer": "ipython3",
      "version": "3.8.10"
    }
  },
  "nbformat": 4,
  "nbformat_minor": 0
}